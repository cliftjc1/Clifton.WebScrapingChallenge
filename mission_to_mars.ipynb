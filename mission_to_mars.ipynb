{
 "cells": [
  {
   "cell_type": "code",
   "execution_count": 2,
   "metadata": {},
   "outputs": [],
   "source": [
    "## Import my dependencies\n",
    "from bs4 import BeautifulSoup as bs\n",
    "import requests"
   ]
  },
  {
   "cell_type": "code",
   "execution_count": 3,
   "metadata": {},
   "outputs": [],
   "source": [
    "## NASA Mars News\n",
    "## Scrape the NASA Mars News Site and collect the latest News Title and Paragraph Text. Assign the text to variables that you can reference later.\n",
    "\n",
    "# URL of webpage:\n",
    "url = \"https://mars.nasa.gov/news/?page=0&per_page=40&order=publish_date+desc%2Ccreated_at+desc&search=&category=19%2C165%2C184%2C204&blank_scope=Latest\"\n",
    "# Request the HTML from the URL\n",
    "response = requests.get(url)\n",
    "# Create BeautifulSoup object; parse with 'html.parser'\n",
    "#lobster_bisque = bs(response.text, 'html.parser')  # Note: the default is html.parser\n",
    "lobster_bisque = bs(response.text)"
   ]
  },
  {
   "cell_type": "code",
   "execution_count": 4,
   "metadata": {
    "tags": [
     "outputPrepend"
    ]
   },
   "outputs": [
    {
     "output_type": "stream",
     "name": "stdout",
     "text": "ot;placeholder&quot;:&quot;&quot;},&quot;highlight_current&quot;:{&quot;highlight&quot;:true,&quot;current_id&quot;:83,&quot;parent_ids&quot;:[]},&quot;search_submit&quot;:&quot;/search/&quot;}\">\n         </nav>\n        </div>\n       </div>\n      </div>\n     </header>\n    </div>\n    <div id=\"sticky_nav_spacer\">\n    </div>\n    <div id=\"page\">\n     <div class=\"page_cover\">\n     </div>\n     <!-- title to go in the page_header -->\n     <div class=\"header_mask\">\n      <section class=\"content_page module\">\n      </section>\n     </div>\n     <div class=\"grid_list_page module content_page\">\n      <div class=\"grid_layout\">\n       <article>\n        <header id=\"page_header\">\n        </header>\n        <div class=\"react_grid_list grid_list_container\" data-react-cache-id=\"GridListPage-0\" data-react-class=\"GridListPage\" data-react-props='{\"left_column\":false,\"class_name\":\"\",\"default_view\":\"list_view\",\"model\":\"news_items\",\"view_toggle\":false,\"search\":\"true\",\"list_item\":\"News\",\"title\":\"News\",\"categories\":[\"19,165,184,204\"],\"order\":\"publish_date desc,created_at desc\",\"no_items_text\":\"There are no items matching these criteria.\",\"site_title\":\"NASA’s Mars Exploration Program \",\"short_title\":\"Mars\",\"site_share_image\":\"/system/site_config_values/meta_share_images/1_142497main_PIA03154-200.jpg\",\"per_page\":null,\"filters\":\"[ [ \\\"date\\\", [ [ \\\"2020\\\", \\\"2020\\\" ], [ \\\"2019\\\", \\\"2019\\\" ], [ \\\"2018\\\", \\\"2018\\\" ], [ \\\"2017\\\", \\\"2017\\\" ], [ \\\"2016\\\", \\\"2016\\\" ], [ \\\"2015\\\", \\\"2015\\\" ], [ \\\"2014\\\", \\\"2014\\\" ], [ \\\"2013\\\", \\\"2013\\\" ], [ \\\"2012\\\", \\\"2012\\\" ], [ \\\"2011\\\", \\\"2011\\\" ], [ \\\"2010\\\", \\\"2010\\\" ], [ \\\"2009\\\", \\\"2009\\\" ], [ \\\"2008\\\", \\\"2008\\\" ], [ \\\"2007\\\", \\\"2007\\\" ], [ \\\"2006\\\", \\\"2006\\\" ], [ \\\"2005\\\", \\\"2005\\\" ], [ \\\"2004\\\", \\\"2004\\\" ], [ \\\"2003\\\", \\\"2003\\\" ], [ \\\"2002\\\", \\\"2002\\\" ], [ \\\"2001\\\", \\\"2001\\\" ], [ \\\"2000\\\", \\\"2000\\\" ] ], [ \\\"Latest\\\", \\\"\\\" ], false ], [ \\\"categories\\\", [ [ \\\"Feature Stories\\\", 165 ], [ \\\"Press Releases\\\", 19 ], [ \\\"Spotlights\\\", 184 ], [ \\\"Status Reports\\\", 204 ] ], [ \\\"All Categories\\\", \\\"\\\" ], false ] ]\",\"conditions\":null,\"scope_in_title\":true,\"options\":{\"blank_scope\":\"Latest\"},\"results_in_title\":false}'>\n        </div>\n       </article>\n      </div>\n     </div>\n     <section class=\"module suggested_features\">\n      <div class=\"grid_layout\">\n       <header>\n        <h2 class=\"module_title\">\n         You Might Also Like\n        </h2>\n       </header>\n       <section>\n        <script>\n         $(document).ready(function(){\n    $(\".features\").slick({\n      dots: false,\n      infinite: true,\n      speed: 300,\n      slide: '.features .slide',\n      slidesToShow: 3,\n      slidesToScroll: 3,\n      lazyLoad: 'ondemand',\n      centerMode: false,\n      arrows: true,\n      appendArrows: '.features .slick-nav',\n      appendDots: \".features .slick-nav\",\n      responsive: [{\"breakpoint\":953,\"settings\":{\"slidesToShow\":2,\"slidesToScroll\":2,\"centerMode\":false}},{\"breakpoint\":480,\"settings\":{\"slidesToShow\":1,\"slidesToScroll\":1,\"centerMode\":true,\"arrows\":false,\"centerPadding\":\"25px\"}}]\n    });\n  });\n        </script>\n        <div class=\"features\">\n         <div class=\"slide\">\n          <div class=\"image_and_description_container\">\n           <a href=\"/news/8659/alabama-high-school-student-names-nasas-mars-helicopter/\">\n            <div class=\"rollover_description\">\n             <div class=\"rollover_description_inner\">\n              Vaneeza Rupani's essay was chosen as the name for the small spacecraft, which will mark NASA's first attempt at powered flight on another planet.\n             </div>\n             <div class=\"overlay_arrow\">\n              <img alt=\"More\" src=\"/assets/overlay-arrow.png\"/>\n             </div>\n            </div>\n            <img alt=\"Alabama High School Student Names NASA's Mars Helicopter\" class=\"img-lazy\" data-lazy=\"/system/news_items/list_view_images/8659_1-PIA23883-MAIN-320x240.jpg\" src=\"/assets/loading_320x240.png\"/>\n           </a>\n          </div>\n          <div class=\"content_title\">\n           <a href=\"/news/8659/alabama-high-school-student-names-nasas-mars-helicopter/\">\n            Alabama High School Student Names NASA's Mars Helicopter\n           </a>\n          </div>\n         </div>\n         <div class=\"slide\">\n          <div class=\"image_and_description_container\">\n           <a href=\"/news/8645/mars-helicopter-attached-to-nasas-perseverance-rover/\">\n            <div class=\"rollover_description\">\n             <div class=\"rollover_description_inner\">\n              The team also fueled the rover's sky crane to get ready for this summer's history-making launch.\n             </div>\n             <div class=\"overlay_arrow\">\n              <img alt=\"More\" src=\"/assets/overlay-arrow.png\"/>\n             </div>\n            </div>\n            <img alt=\"Mars Helicopter Attached to NASA's Perseverance Rover\" class=\"img-lazy\" data-lazy=\"/system/news_items/list_view_images/8645_PIA23824-RoverWithHelicopter-32x24.jpg\" src=\"/assets/loading_320x240.png\"/>\n           </a>\n          </div>\n          <div class=\"content_title\">\n           <a href=\"/news/8645/mars-helicopter-attached-to-nasas-perseverance-rover/\">\n            Mars Helicopter Attached to NASA's Perseverance Rover\n           </a>\n          </div>\n         </div>\n         <div class=\"slide\">\n          <div class=\"image_and_description_container\">\n           <a href=\"/news/8641/nasas-perseverance-mars-rover-gets-its-wheels-and-air-brakes/\">\n            <div class=\"rollover_description\">\n             <div class=\"rollover_description_inner\">\n              After the rover was shipped from JPL to Kennedy Space Center, the team is getting closer to finalizing the spacecraft for launch later this summer.\n             </div>\n             <div class=\"overlay_arrow\">\n              <img alt=\"More\" src=\"/assets/overlay-arrow.png\"/>\n             </div>\n            </div>\n            <img alt=\"NASA's Perseverance Mars Rover Gets Its Wheels and Air Brakes\" class=\"img-lazy\" data-lazy=\"/system/news_items/list_view_images/8641_PIA-23821-320x240.jpg\" src=\"/assets/loading_320x240.png\"/>\n           </a>\n          </div>\n          <div class=\"content_title\">\n           <a href=\"/news/8641/nasas-perseverance-mars-rover-gets-its-wheels-and-air-brakes/\">\n            NASA's Perseverance Mars Rover Gets Its Wheels and Air Brakes\n           </a>\n          </div>\n         </div>\n         <div class=\"slide\">\n          <div class=\"image_and_description_container\">\n           <a href=\"/news/8634/109-million-names-now-aboard-nasas-perseverance-mars-rover/\">\n            <div class=\"rollover_description\">\n             <div class=\"rollover_description_inner\">\n              As part of NASA's 'Send Your Name to Mars' campaign, they've been stenciled onto three microchips along with essays from NASA's 'Name the Rover' contest. Next stop: Mars.\n             </div>\n             <div class=\"overlay_arrow\">\n              <img alt=\"More\" src=\"/assets/overlay-arrow.png\"/>\n             </div>\n            </div>\n            <img alt=\"10.9 Million Names Now Aboard NASA's Perseverance Mars Rover\" class=\"img-lazy\" data-lazy=\"/system/news_items/list_view_images/8634_PIA23769-320x240.jpg\" src=\"/assets/loading_320x240.png\"/>\n           </a>\n          </div>\n          <div class=\"content_title\">\n           <a href=\"/news/8634/109-million-names-now-aboard-nasas-perseverance-mars-rover/\">\n            10.9 Million Names Now Aboard NASA's Perseverance Mars Rover\n           </a>\n          </div>\n         </div>\n         <div class=\"slide\">\n          <div class=\"image_and_description_container\">\n           <a href=\"/news/8622/virginia-middle-school-student-earns-honor-of-naming-nasas-next-mars-rover/\">\n            <div class=\"rollover_description\">\n             <div class=\"rollover_description_inner\">\n              NASA chose a seventh-grader from Virginia as winner of the agency's \"Name the Rover\" essay contest. Alexander Mather's entry for \"Perseverance\" was voted tops among 28,000 entries.\n             </div>\n             <div class=\"overlay_arrow\">\n              <img alt=\"More\" src=\"/assets/overlay-arrow.png\"/>\n             </div>\n            </div>\n            <img alt=\"Virginia Middle School Student Earns Honor of Naming NASA's Next Mars Rover\" class=\"img-lazy\" data-lazy=\"/system/news_items/list_view_images/8622_1-PIA23764-RoverNamePlateonMars-320x240.jpg\" src=\"/assets/loading_320x240.png\"/>\n           </a>\n          </div>\n          <div class=\"content_title\">\n           <a href=\"/news/8622/virginia-middle-school-student-earns-honor-of-naming-nasas-next-mars-rover/\">\n            Virginia Middle School Student Earns Honor of Naming NASA's Next Mars Rover\n           </a>\n          </div>\n         </div>\n         <div class=\"slide\">\n          <div class=\"image_and_description_container\">\n           <a href=\"/news/8606/nasa-prepares-for-moon-and-mars-with-new-addition-to-its-deep-space-network/\">\n            <div class=\"rollover_description\">\n             <div class=\"rollover_description_inner\">\n              Robotic spacecraft will be able to communicate with the dish using radio waves and lasers.\n             </div>\n             <div class=\"overlay_arrow\">\n              <img alt=\"More\" src=\"/assets/overlay-arrow.png\"/>\n             </div>\n            </div>\n            <img alt=\"NASA Prepares for Moon and Mars With New Addition to Its Deep Space Network\" class=\"img-lazy\" data-lazy=\"/system/news_items/list_view_images/8606_list_image.jpg\" src=\"/assets/loading_320x240.png\"/>\n           </a>\n          </div>\n          <div class=\"content_title\">\n           <a href=\"/news/8606/nasa-prepares-for-moon-and-mars-with-new-addition-to-its-deep-space-network/\">\n            NASA Prepares for Moon and Mars With New Addition to Its Deep Space Network\n           </a>\n          </div>\n         </div>\n         <div class=\"grid_layout\">\n          <div class=\"slick-nav_container\">\n           <div class=\"slick-nav\">\n           </div>\n          </div>\n         </div>\n        </div>\n       </section>\n      </div>\n     </section>\n    </div>\n    <footer id=\"site_footer\">\n     <div class=\"grid_layout\">\n      <section class=\"upper_footer\">\n       <div class=\"share_newsletter_container\">\n        <div class=\"newsletter\">\n         <h2>\n          Get the Mars Newsletter\n         </h2>\n         <form action=\"/newsletter-subscribe\">\n          <input id=\"email\" name=\"email\" placeholder=\"enter email address\" type=\"email\" value=\"\"/>\n          <input data-disable-with=\"\" name=\"commit\" type=\"submit\" value=\"\"/>\n         </form>\n        </div>\n        <div class=\"share\">\n         <h2>\n          Follow the Journey\n         </h2>\n         <div class=\"social_icons\">\n          <!-- AddThis Button BEGIN -->\n          <div class=\"addthis_toolbox addthis_default_style addthis_32x32_style\">\n           <a addthis:userid=\"MarsCuriosity\" class=\"addthis_button_twitter_follow icon\">\n            <img alt=\"twitter\" src=\"/assets/twitter_icon@2x.png\"/>\n           </a>\n           <a addthis:userid=\"MarsCuriosity\" class=\"addthis_button_facebook_follow icon\">\n            <img alt=\"facebook\" src=\"/assets/facebook_icon@2x.png\"/>\n           </a>\n           <a addthis:userid=\"nasa\" class=\"addthis_button_instagram_follow icon\">\n            <img alt=\"instagram\" src=\"/assets/instagram_icon@2x.png\"/>\n           </a>\n           <a addthis:url=\"https://mars.nasa.gov/rss/api/?feed=news&amp;category=all&amp;feedtype=rss\" class=\"addthis_button_rss_follow icon\">\n            <img alt=\"rss\" src=\"/assets/rss_icon@2x.png\"/>\n           </a>\n          </div>\n         </div>\n         <script src=\"//s7.addthis.com/js/300/addthis_widget.js#pubid=ra-5a690e4c1320e328\">\n         </script>\n        </div>\n       </div>\n       <div class=\"gradient_line\">\n       </div>\n      </section>\n      <section class=\"sitemap\">\n       <div class=\"sitemap_directory\" id=\"sitemap_directory\">\n        <div class=\"sitemap_block\">\n         <div class=\"footer_sitemap_item\">\n          <h3 class=\"sitemap_title\">\n           <a href=\"/#red_planet\">\n            The Red Planet\n           </a>\n          </h3>\n          <ul>\n           <li>\n            <div class=\"global_subnav_container\">\n             <ul class=\"subnav\">\n              <li>\n               <a href=\"/#red_planet/0\" target=\"_self\">\n                Dashboard\n               </a>\n              </li>\n              <li>\n               <a href=\"/#red_planet/1\" target=\"_self\">\n                Science Goals\n               </a>\n              </li>\n              <li>\n               <a href=\"/#red_planet/2\" target=\"_self\">\n                The Planet\n               </a>\n              </li>\n              <li>\n               <a href=\"/#red_planet/3\" target=\"_self\">\n                Atmosphere\n               </a>\n              </li>\n              <li>\n               <a href=\"/#red_planet/4\" target=\"_self\">\n                Astrobiology\n               </a>\n              </li>\n              <li>\n               <a href=\"/#red_planet/5\" target=\"_self\">\n                Past, Present, Future, Timeline\n               </a>\n              </li>\n             </ul>\n            </div>\n           </li>\n          </ul>\n         </div>\n        </div>\n        <div class=\"sitemap_block\">\n         <div class=\"footer_sitemap_item\">\n          <h3 class=\"sitemap_title\">\n           <a href=\"/#mars_exploration_program\">\n            The Program\n           </a>\n          </h3>\n          <ul>\n           <li>\n            <div class=\"global_subnav_container\">\n             <ul class=\"subnav\">\n              <li>\n               <a href=\"/#mars_exploration_program/0\" target=\"_self\">\n                Mission Statement\n               </a>\n              </li>\n              <li>\n               <a href=\"/#mars_exploration_program/1\" target=\"_self\">\n                About the Program\n               </a>\n              </li>\n              <li>\n               <a href=\"/#mars_exploration_program/2\" target=\"_self\">\n                Organization\n               </a>\n              </li>\n              <li>\n               <a href=\"/#mars_exploration_program/3\" target=\"_self\">\n                Why Mars?\n               </a>\n              </li>\n              <li>\n               <a href=\"/#mars_exploration_program/4\" target=\"_self\">\n                Research Programs\n               </a>\n              </li>\n              <li>\n               <a href=\"/#mars_exploration_program/5\" target=\"_self\">\n                Planetary Resources\n               </a>\n              </li>\n              <li>\n               <a href=\"/#mars_exploration_program/6\" target=\"_self\">\n                Technologies\n               </a>\n              </li>\n             </ul>\n            </div>\n           </li>\n          </ul>\n         </div>\n        </div>\n        <div class=\"sitemap_block\">\n         <div class=\"footer_sitemap_item\">\n          <h3 class=\"sitemap_title\">\n           <a href=\"/#news_and_events\">\n            News &amp; Events\n           </a>\n          </h3>\n          <ul>\n           <li>\n            <div class=\"global_subnav_container\">\n             <ul class=\"subnav\">\n              <li>\n               <a href=\"/news\" target=\"_self\">\n                News\n               </a>\n              </li>\n              <li>\n               <a href=\"/events\" target=\"_self\">\n                Events\n               </a>\n              </li>\n             </ul>\n            </div>\n           </li>\n          </ul>\n         </div>\n        </div>\n        <div class=\"sitemap_block\">\n         <div class=\"footer_sitemap_item\">\n          <h3 class=\"sitemap_title\">\n           <a href=\"/#multimedia\">\n            Multimedia\n           </a>\n          </h3>\n          <ul>\n           <li>\n            <div class=\"global_subnav_container\">\n             <ul class=\"subnav\">\n              <li>\n               <a href=\"/multimedia/images/\" target=\"_self\">\n                Images\n               </a>\n              </li>\n              <li>\n               <a href=\"/multimedia/videos/\" target=\"_self\">\n                Videos\n               </a>\n              </li>\n              <li>\n               <a href=\"/multimedia/more-resources/\" target=\"_self\">\n                More Resources\n               </a>\n              </li>\n             </ul>\n            </div>\n           </li>\n          </ul>\n         </div>\n        </div>\n        <div class=\"sitemap_block\">\n         <div class=\"footer_sitemap_item\">\n          <h3 class=\"sitemap_title\">\n           <a href=\"/#missions_gallery_subnav\">\n            Missions\n           </a>\n          </h3>\n          <ul>\n           <li>\n            <div class=\"global_subnav_container\">\n             <ul class=\"subnav\">\n              <li>\n               <a href=\"/mars-exploration/missions/?category=167\" target=\"_self\">\n                Past\n               </a>\n              </li>\n              <li>\n               <a href=\"/mars-exploration/missions/?category=170\" target=\"_self\">\n                Present\n               </a>\n              </li>\n              <li>\n               <a href=\"/mars-exploration/missions/?category=171\" target=\"_self\">\n                Future\n               </a>\n              </li>\n              <li>\n               <a href=\"/mars-exploration/partners\" target=\"_self\">\n                International Partners\n               </a>\n              </li>\n             </ul>\n            </div>\n           </li>\n          </ul>\n         </div>\n        </div>\n        <div class=\"sitemap_block\">\n         <div class=\"footer_sitemap_item\">\n          <h3 class=\"sitemap_title\">\n           <a href=\"/#more\">\n            More\n           </a>\n          </h3>\n          <ul>\n           <li>\n            <div class=\"global_subnav_container\">\n             <ul class=\"subnav\">\n             </ul>\n            </div>\n           </li>\n          </ul>\n         </div>\n        </div>\n       </div>\n       <div class=\"gradient_line\">\n       </div>\n      </section>\n      <section class=\"lower_footer\">\n       <div class=\"nav_container\">\n        <nav>\n         <ul>\n          <li>\n           <a href=\"http://science.nasa.gov/\" target=\"_blank\">\n            NASA Science Mission Directorate\n           </a>\n          </li>\n          <li>\n           <a href=\"https://www.jpl.nasa.gov/copyrights.php\" target=\"_blank\">\n            Privacy\n           </a>\n          </li>\n          <li>\n           <a href=\"http://www.jpl.nasa.gov/imagepolicy/\" target=\"_blank\">\n            Image Policy\n           </a>\n          </li>\n          <li>\n           <a href=\"https://mars.nasa.gov/feedback/\" target=\"_self\">\n            Feedback\n           </a>\n          </li>\n         </ul>\n        </nav>\n       </div>\n       <div class=\"credits\">\n        <div class=\"footer_brands_top\">\n         <p>\n          Managed by the Mars Exploration Program and the Jet Propulsion Laboratory for NASA’s Science Mission Directorate\n         </p>\n        </div>\n        <!-- .footer_brands -->\n        <!-- %a.jpl{href: \"\", target: \"_blank\"}Institution -->\n        <!-- -->\n        <!-- %a.caltech{href: \"\", target: \"_blank\"}Institution -->\n        <!-- .staff -->\n        <!-- %p -->\n        <!-- - get_staff_for_category(get_field_from_admin_config(:web_staff_category_id)) -->\n        <!-- - @staff.each_with_index do |staff, idx| -->\n        <!-- - unless staff.is_in_footer == 0 -->\n        <!-- = staff.title + \": \" -->\n        <!-- - if staff.contact_link =~ /@/ -->\n        <!-- = mail_to staff.contact_link, staff.name, :subject => \"[#{@site_title}]\" -->\n        <!-- - elsif staff.contact_link.present? -->\n        <!-- = link_to staff.name, staff.contact_link -->\n        <!-- - else -->\n        <!-- = staff.name -->\n        <!-- - unless (idx + 1 == @staff.size) -->\n        <!-- %br -->\n       </div>\n      </section>\n     </div>\n    </footer>\n   </div>\n  </div>\n  <script id=\"_fed_an_ua_tag\" src=\"https://dap.digitalgov.gov/Universal-Federated-Analytics-Min.js?agency=NASA&amp;subagency=JPL-Mars-MEPJPL&amp;pua=UA-9453474-9,UA-118212757-11&amp;dclink=true&amp;sp=searchbox&amp;exts=tif,tiff,wav\" type=\"text/javascript\">\n  </script>\n </body>\n</html>\n\n"
    }
   ],
   "source": [
    "# Examine the BeautifulSoup object\n",
    "print(lobster_bisque.prettify())"
   ]
  },
  {
   "cell_type": "code",
   "execution_count": 5,
   "metadata": {},
   "outputs": [
    {
     "output_type": "execute_result",
     "data": {
      "text/plain": "<div class=\"slide\">\n<div class=\"image_and_description_container\">\n<a href=\"/news/8659/alabama-high-school-student-names-nasas-mars-helicopter/\">\n<div class=\"rollover_description\">\n<div class=\"rollover_description_inner\">\nVaneeza Rupani's essay was chosen as the name for the small spacecraft, which will mark NASA's first attempt at powered flight on another planet.\n</div>\n<div class=\"overlay_arrow\">\n<img alt=\"More\" src=\"/assets/overlay-arrow.png\"/>\n</div>\n</div>\n<img alt=\"Alabama High School Student Names NASA's Mars Helicopter\" class=\"img-lazy\" data-lazy=\"/system/news_items/list_view_images/8659_1-PIA23883-MAIN-320x240.jpg\" src=\"/assets/loading_320x240.png\"/>\n</a>\n</div>\n<div class=\"content_title\">\n<a href=\"/news/8659/alabama-high-school-student-names-nasas-mars-helicopter/\">\nAlabama High School Student Names NASA's Mars Helicopter\n</a>\n</div>\n</div>"
     },
     "metadata": {},
     "execution_count": 5
    }
   ],
   "source": [
    "# Return results as an iterable list\n",
    "#results = lobster_bisque.find_all('li', class_='slide')\n",
    "#results = lobster_bisque.find_all('div', class_='list_text')\n",
    "results = lobster_bisque.find_all('div', class_='slide')\n",
    "# Display first element as a check\n",
    "results[0]"
   ]
  },
  {
   "cell_type": "code",
   "execution_count": 6,
   "metadata": {},
   "outputs": [
    {
     "output_type": "stream",
     "name": "stdout",
     "text": "-------------\n\n\nAlabama High School Student Names NASA's Mars Helicopter\n\n\n\nVaneeza Rupani's essay was chosen as the name for the small spacecraft, which will mark NASA's first attempt at powered flight on another planet.\n\n-------------\n\n\nMars Helicopter Attached to NASA's Perseverance Rover\n\n\n\nThe team also fueled the rover's sky crane to get ready for this summer's history-making launch.\n\n-------------\n\n\nNASA's Perseverance Mars Rover Gets Its Wheels and Air Brakes\n\n\n\nAfter the rover was shipped from JPL to Kennedy Space Center, the team is getting closer to finalizing the spacecraft for launch later this summer.\n\n-------------\n\n\n10.9 Million Names Now Aboard NASA's Perseverance Mars Rover\n\n\n\nAs part of NASA's 'Send Your Name to Mars' campaign, they've been stenciled onto three microchips along with essays from NASA's 'Name the Rover' contest. Next stop: Mars.\n\n-------------\n\n\nVirginia Middle School Student Earns Honor of Naming NASA's Next Mars Rover\n\n\n\nNASA chose a seventh-grader from Virginia as winner of the agency's \"Name the Rover\" essay contest. Alexander Mather's entry for \"Perseverance\" was voted tops among 28,000 entries. \n\n-------------\n\n\nNASA Prepares for Moon and Mars With New Addition to Its Deep Space Network\n\n\n\nRobotic spacecraft will be able to communicate with the dish using radio waves and lasers.\n\n"
    }
   ],
   "source": [
    "# Store our results somewhere\n",
    "news = []\n",
    "\n",
    "# Loop through returned results\n",
    "for result in results:\n",
    "    # Error handling  -- i.e. what if some results don't have a title, price, or link?\n",
    "    try:\n",
    "        # Identify and return title of news article\n",
    "        title = result.find('div', class_='content_title').text\n",
    "        # Identify and return description of the news article\n",
    "        description = result.find('div',class_='rollover_description_inner').text\n",
    "        \n",
    "        # Print results only if title and description\n",
    "        if title:\n",
    "            news.append([title,description])\n",
    "            print('-------------')\n",
    "            print(title)\n",
    "            print(description)\n",
    "    except AttributeError as e:\n",
    "        print(e)\n"
   ]
  },
  {
   "cell_type": "code",
   "execution_count": 21,
   "metadata": {},
   "outputs": [],
   "source": [
    "## JPL Mars Space Images - Featured Image\n",
    "## Use splinter to navigate the site and find the image url for the current Featured Mars Image and assign the url string to a variable called featured_image_url\n",
    "\n",
    "from splinter import Browser\n",
    "executable_path = {'executable_path': 'chromedriver.exe'}\n",
    "browser = Browser('chrome', **executable_path, headless=False)\n",
    "url = 'https://www.jpl.nasa.gov/spaceimages/?search=&category=Mars'\n",
    "browser.visit(url)\n",
    "\n",
    "# URL of webpage:\n",
    "# url = \"https://www.jpl.nasa.gov/spaceimages/?search=&category=Mars\"\n",
    "# # Request the HTML from the URL\n",
    "# response = requests.get(url)\n",
    "# # Create BeautifulSoup object; parse with 'html.parser'\n",
    "# chicken_noodle = bs(response.text)"
   ]
  },
  {
   "cell_type": "code",
   "execution_count": 13,
   "metadata": {
    "tags": [
     "outputPrepend"
    ]
   },
   "outputs": [
    {
     "output_type": "stream",
     "name": "stdout",
     "text": "div>\n         </a>\n        </li>\n        <li class=\"slide\">\n         <a class=\"fancybox\" data-description=\"This image from NASAs Mars Odyssey shows a small portion of Daedalia Planum. Daedalia Planum is an immense lava flow field that originates at Arsia Mons.\" data-fancybox-group=\"images\" data-fancybox-href=\"/spaceimages/images/largesize/PIA23840_hires.jpg\" data-link=\"/spaceimages/details.php?id=PIA23840\" data-thumbnail=\"/spaceimages/images/wallpaper/PIA23840-640x350.jpg\" data-title=\"Daedalia Planum\">\n          <div class=\"image_and_description_container\">\n           <div class=\"rollover_description\">\n            <h3 class=\"release_date\">\n             April 17, 2020\n            </h3>\n            <div class=\"item_tease_overlay\">\n             Daedalia Planum\n            </div>\n            <div class=\"overlay_arrow\">\n             <img alt=\"more arrow\" src=\"/assets/images/overlay-arrow.png\"/>\n            </div>\n           </div>\n           <div class=\"img\">\n            <img alt=\"Daedalia Planum\" class=\"thumb\" src=\"/spaceimages/images/wallpaper/PIA23840-640x350.jpg\" title=\"Daedalia Planum\"/>\n           </div>\n           <div class=\"list_text_content\">\n            <div class=\"article_teaser_body\">\n             April 17, 2020\n            </div>\n            <div class=\"content_title\">\n             Daedalia Planum\n            </div>\n            <div class=\"article_teaser_body\">\n             This image from NASAs Mars Odyssey shows a small portion of Daedalia Planum. Daedalia Planum is an immense lava flow field that originates at Arsia Mons.\n            </div>\n           </div>\n          </div>\n         </a>\n        </li>\n       </ul>\n       <footer>\n        <div class=\"more_button\">\n         <a class=\"button\" href=\"\">\n          MORE\n         </a>\n        </div>\n       </footer>\n      </div>\n     </section>\n     <section class=\"image_teaser module\">\n      <div class=\"grid_layout\">\n       <header>\n        <h1 class=\"module_title\">\n        </h1>\n       </header>\n       <ul class=\"module_gallery gallery_list\">\n        <li class=\"slide\">\n         <div class=\"image_container\">\n          <a href=\"http://photojournal.jpl.nasa.gov/\">\n           <img alt=\"jpl photojournal\" class=\"thumb\" src=\"/assets/images/content/tmp/images/jpl_photojournal(3x1).jpg\"/>\n          </a>\n         </div>\n         <div class=\"content_title\">\n          <a href=\"http://photojournal.jpl.nasa.gov/\">\n           JPL Photojournal\n          </a>\n         </div>\n         <div class=\"article_teaser_body\">\n          Access to the full library of publicly released images from various Solar System exploration programs\n         </div>\n        </li>\n        <li class=\"slide\">\n         <div class=\"image_container\">\n          <a href=\"http://www.nasa.gov/multimedia/imagegallery/\">\n           <img alt=\"Great images in NASA\" class=\"thumb\" src=\"/assets/images/content/tmp/images/nasa_images(3x1).jpg\"/>\n          </a>\n         </div>\n         <div class=\"content_title\">\n          <a href=\"http://www.nasa.gov/multimedia/imagegallery/\">\n           Great images in NASA\n          </a>\n         </div>\n         <div class=\"article_teaser_body\">\n          A selection of the best-known images from a half-century of exploration and discovery\n         </div>\n        </li>\n       </ul>\n      </div>\n     </section>\n     <section class=\"multi_teaser module\">\n      <div class=\"grid_layout\">\n       <header>\n        <h1 class=\"module_title\">\n         You Might Also Like\n        </h1>\n       </header>\n       <ul class=\"module_gallery gallery_list\">\n        <li class=\"slide\">\n         <a href=\"//www.jpl.nasa.gov/news/news.php?feature=7666\">\n          <div class=\"image_and_description_container\">\n           <div class=\"rollover_description\">\n            An instrument called SHERLOC will, with the help of its partner WATSON, hunt for signs of ancient life by detecting organic molecules and minerals.\n            <div class=\"overlay_arrow\">\n             <img alt=\"more arrow\" src=\"/assets/images/overlay-arrow.png\"/>\n            </div>\n           </div>\n           <img alt=\"The SHERLOC instrument located on the end of the robotic arm of NASA's Perseverance Mars rover\" src=\"//imagecache.jpl.nasa.gov/images/640x350/SHERLOC-16-640x350.jpg\"/>\n          </div>\n          <div class=\"content_title\">\n           The Detective Aboard NASA's Perseverance Rover\n          </div>\n         </a>\n        </li>\n        <li class=\"slide\">\n         <a href=\"//www.jpl.nasa.gov/news/news.php?feature=7665\">\n          <div class=\"image_and_description_container\">\n           <div class=\"rollover_description\">\n            A NASA Wallops Flight Facility cargo plane transported more than two tons of equipment - including the rover's sample collection tubes - to Florida for this summer's liftoff.\n            <div class=\"overlay_arrow\">\n             <img alt=\"more arrow\" src=\"/assets/images/overlay-arrow.png\"/>\n            </div>\n           </div>\n           <img alt=\"This animated GIF shows a NASA Wallops Flight Facility C-130 soon after landing Kennedy Space Center\" src=\"//imagecache.jpl.nasa.gov/images/640x350/airplane20200521-640x350.gif\"/>\n          </div>\n          <div class=\"content_title\">\n           Air Deliveries Bring NASA's Perseverance Mars Rover Closer to Launch\n          </div>\n         </a>\n        </li>\n        <li class=\"slide\">\n         <a href=\"//www.jpl.nasa.gov/news/news.php?feature=7663\">\n          <div class=\"image_and_description_container\">\n           <div class=\"rollover_description\">\n            Winners include the JPL-managed \"Send Your Name to Mars\" campaign, NASA's Global Climate Change website, Solar System Interactive.\n            <div class=\"overlay_arrow\">\n             <img alt=\"more arrow\" src=\"/assets/images/overlay-arrow.png\"/>\n            </div>\n           </div>\n           <img alt=\"Webby award\" src=\"//imagecache.jpl.nasa.gov/images/640x350/webby20200519-16-640x350.jpg\"/>\n          </div>\n          <div class=\"content_title\">\n           NASA Wins 4 Webbys, 4 People's Voice Awards\n          </div>\n         </a>\n        </li>\n       </ul>\n       <footer>\n        <a class=\"outline_button dark\" href=\"/news\">\n         more news\n        </a>\n       </footer>\n      </div>\n     </section>\n     <!-- END CONTENT -->\n     <script src=\"/Scripts/custom_detail.js\" type=\"text/javascript\">\n     </script>\n     <!-- START FOOTER: \"DEFAULT\" -->\n    </div>\n    <footer class=\"clearfix\" id=\"site_footer\">\n     <section class=\"upper_footer\">\n      <div class=\"grid_layout\">\n       <div class=\"footer_newsletter\">\n        <h2>\n         Get the Newsletter\n        </h2>\n        <form action=\"/signup/index.php\" class=\"submit_newsletter\" method=\"post\">\n         <input class=\"email_field\" name=\"email_field\" onblur=\"this.placeholder = 'enter email address'\" onfocus=\"this.placeholder = ''\" placeholder=\"enter email address\" type=\"email\" value=\"\"/>\n         <input class=\"email_submit\" type=\"submit\" value=\"\"/>\n        </form>\n       </div>\n       <div class=\"gradient_line_divider\">\n       </div>\n       <div class=\"share\">\n        <h2>\n         Follow JPL\n        </h2>\n        <div class=\"social_icons\">\n         <!-- AddThis Button BEGIN -->\n         <div class=\"addthis_toolbox addthis_default_style addthis_32x32_style\">\n          <a addthis:userid=\"NASAJPL\" class=\"addthis_button_facebook_follow icon\">\n          </a>\n          <a addthis:userid=\"NASAJPL\" class=\"addthis_button_twitter_follow icon\">\n          </a>\n          <a addthis:userid=\"JPLnews\" class=\"addthis_button_youtube_follow icon\">\n          </a>\n          <a addthis:userid=\"nasajpl\" class=\"addthis_button_instagram_follow icon\">\n          </a>\n          <a class=\"icon all_icon\" href=\"/social\">\n           <span>\n            All\n           </span>\n          </a>\n         </div>\n         <script>\n          addthis_loader.init(\"//s7.addthis.com/js/300/addthis_widget.js#pubid=ra-5429eeee4e460927\", {follow: true})\n         </script>\n        </div>\n       </div>\n      </div>\n      <div class=\"gradient_line\">\n      </div>\n     </section>\n     <section class=\"sitemap\">\n      <div class=\"grid_layout\">\n       <div class=\"sitemap_directory\">\n        <div class=\"sitemap_block\">\n         <div class=\"footer_sitemap_item\">\n          <h3 class=\"sitemap_title\">\n           about JPL\n          </h3>\n          <ul class=\"subnav\">\n           <li>\n            <a href=\"/about/\">\n             About JPL\n            </a>\n           </li>\n           <li>\n            <a href=\"https://www.jpl.nasa.gov/jpl2025/vision/\">\n             JPL Vision\n            </a>\n           </li>\n           <li>\n            <a href=\"/about/exec.php\">\n             Executive Council\n            </a>\n           </li>\n           <li>\n            <a href=\"/about/history.php\">\n             History\n            </a>\n           </li>\n           <li>\n            <a href=\"/about/reports.php\">\n             Annual Reports\n            </a>\n           </li>\n           <li>\n            <a href=\"/contact_JPL.php\">\n             Contact Us\n            </a>\n           </li>\n           <li>\n            <a href=\"/opportunities/\">\n             Opportunities\n            </a>\n           </li>\n           <li>\n            <a href=\"https://thejplstore.com\" target=\"_blank\">\n             JPL Online Store\n            </a>\n           </li>\n           <li>\n            <a href=\"/acquisition/\">\n             Doing Business with JPL\n            </a>\n           </li>\n          </ul>\n         </div>\n         <div class=\"footer_sitemap_item\">\n          <h3 class=\"sitemap_title\">\n           missions\n          </h3>\n          <ul class=\"subnav\">\n           <li>\n            <a href=\"/missions/?type=current\">\n             Current\n            </a>\n           </li>\n           <li>\n            <a href=\"/missions/?type=past\">\n             Past\n            </a>\n           </li>\n           <li>\n            <a href=\"/missions/?type=future\">\n             Future\n            </a>\n           </li>\n           <li>\n            <a href=\"/missions/?type=proposed\">\n             Proposed\n            </a>\n           </li>\n           <li>\n            <a href=\"/missions\">\n             All\n            </a>\n           </li>\n          </ul>\n         </div>\n        </div>\n        <div class=\"sitemap_block\">\n         <div class=\"footer_sitemap_item\">\n          <h3 class=\"sitemap_title\">\n           education\n          </h3>\n          <ul class=\"subnav\">\n           <li>\n            <a href=\"/edu/intern/\">\n             Intern\n            </a>\n           </li>\n           <li>\n            <a href=\"/edu/learn/\">\n             Learn\n            </a>\n           </li>\n           <li>\n            <a href=\"/edu/teach/\">\n             Teach\n            </a>\n           </li>\n           <li>\n            <a href=\"/edu/news/\">\n             News\n            </a>\n           </li>\n           <li>\n            <a href=\"/edu/events/\">\n             Events\n            </a>\n           </li>\n          </ul>\n         </div>\n         <div class=\"footer_sitemap_item\">\n          <h3 class=\"sitemap_title\">\n           news\n          </h3>\n          <ul class=\"subnav\">\n           <li>\n            <a href=\"/news\">\n             Latest News\n            </a>\n           </li>\n           <li>\n            <a href=\"/news/presskits.php\">\n             Press Kits\n            </a>\n           </li>\n           <li>\n            <a href=\"/news/factsheets.php\">\n             Fact Sheets\n            </a>\n           </li>\n           <li>\n            <a href=\"/news/mediainformation.php\">\n             Media Information\n            </a>\n           </li>\n           <li>\n            <a href=\"/universe/\">\n             Universe Newspaper\n            </a>\n           </li>\n          </ul>\n         </div>\n         <div class=\"footer_sitemap_item\">\n          <h3 class=\"sitemap_title\">\n           public events\n          </h3>\n          <ul class=\"subnav\">\n           <li>\n            <a href=\"/events/\">\n             Overview\n            </a>\n           </li>\n           <li>\n            <a href=\"/events/tours/views/\">\n             Tours\n            </a>\n           </li>\n           <li>\n            <a href=\"/events/lectures.php\">\n             Lecture Series\n            </a>\n           </li>\n           <li>\n            <a href=\"/events/speakers-bureau.php\">\n             Speakers Bureau\n            </a>\n           </li>\n           <li>\n            <a href=\"/events/team-competitions.php\">\n             Team Competitions\n            </a>\n           </li>\n           <li>\n            <a href=\"/events/special-events.php\">\n             Special Events\n            </a>\n           </li>\n          </ul>\n         </div>\n        </div>\n        <div class=\"sitemap_block\">\n         <div class=\"footer_sitemap_item\">\n          <h3 class=\"sitemap_title\">\n           Our Sites\n          </h3>\n          <ul class=\"subnav\">\n           <li>\n            <a href=\"/asteroidwatch/\">\n             Asteroid Watch\n            </a>\n           </li>\n           <li>\n            <a href=\"https://solarsystem.nasa.gov/basics/\" target=\"_blank\">\n             Basics of Spaceflight\n            </a>\n           </li>\n           <li>\n            <a href=\"https://saturn.jpl.nasa.gov/index.cfm\">\n             Cassini - Mission to Saturn\n            </a>\n           </li>\n           <li>\n            <a href=\"https://climatekids.nasa.gov/index.cfm\">\n             Climate Kids\n            </a>\n           </li>\n           <li>\n            <a href=\"https://climate.nasa.gov\">\n             Earth / Global Climate Change\n            </a>\n           </li>\n           <li>\n            <a href=\"https://planetquest.jpl.nasa.gov\">\n             Exoplanet Exploration\n            </a>\n           </li>\n           <li>\n            <a href=\"/missions/juno/\">\n             Juno - Mission to Jupiter\n            </a>\n           </li>\n           <li>\n            <a href=\"https://mars.nasa.gov/\">\n             Mars Exploration\n            </a>\n           </li>\n           <li>\n            <a href=\"https://scienceandtechnology.jpl.nasa.gov/\">\n             Science and Technology\n            </a>\n           </li>\n           <li>\n            <a href=\"https://solarsystem.nasa.gov/\">\n             Solar System Exploration\n            </a>\n           </li>\n           <li>\n            <a href=\"https://spaceplace.nasa.gov/\">\n             Space Place\n            </a>\n           </li>\n           <li>\n            <a href=\"https://eyes.nasa.gov/\">\n             NASA's Eyes\n            </a>\n           </li>\n           <li>\n            <a href=\"https://www.spitzer.caltech.edu/\">\n             Spitzer Space Telescope\n            </a>\n           </li>\n           <li>\n            <a href=\"https://voyager.jpl.nasa.gov/\">\n             Voyager Interstellar Mission\n            </a>\n           </li>\n          </ul>\n         </div>\n         <div class=\"footer_sitemap_item\">\n          <h3 class=\"sitemap_title\">\n           galleries\n          </h3>\n          <ul class=\"subnav\">\n           <li>\n            <a href=\"/spaceimages/\">\n             JPL Space Images\n            </a>\n           </li>\n           <li>\n            <a href=\"/video/\">\n             Videos\n            </a>\n           </li>\n           <li>\n            <a href=\"/infographics/\">\n             Infographics\n            </a>\n           </li>\n           <li>\n            <a href=\"https://photojournal.jpl.nasa.gov/\">\n             Photojournal\n            </a>\n           </li>\n           <li>\n            <a href=\"http://www.nasaimages.org/\">\n             NASA Images\n            </a>\n           </li>\n           <li>\n            <a href=\"/apps/\">\n             Mobile Apps\n            </a>\n           </li>\n          </ul>\n         </div>\n        </div>\n        <div class=\"sitemap_block\">\n         <div class=\"footer_sitemap_item\">\n          <h3 class=\"sitemap_title\">\n           Follow JPL\n          </h3>\n          <ul class=\"subnav\">\n           <li>\n            <a href=\"/signup/\">\n             Newsletter\n            </a>\n           </li>\n           <li>\n            <a href=\"https://www.facebook.com/NASAJPL\">\n             Facebook\n            </a>\n           </li>\n           <li>\n            <a href=\"http://twitter.com/NASAJPL\">\n             Twitter\n            </a>\n           </li>\n           <li>\n            <a href=\"http://www.youtube.com/user/JPLnews\">\n             YouTube\n            </a>\n           </li>\n           <li>\n            <a href=\"http://www.flickr.com/photos/nasa-jpl\">\n             Flickr\n            </a>\n           </li>\n           <li>\n            <a href=\"http://instagram.com/nasajpl\">\n             Instagram\n            </a>\n           </li>\n           <li>\n            <a href=\"https://www.linkedin.com/company/2004/\">\n             LinkedIn\n            </a>\n           </li>\n           <li>\n            <a href=\"http://itunes.apple.com/podcast/hd-nasas-jet-propulsion-laboratory/id262254981\">\n             iTunes\n            </a>\n           </li>\n           <li>\n            <a href=\"http://www.ustream.tv/nasajpl\">\n             UStream\n            </a>\n           </li>\n           <li>\n            <a href=\"/rss/\">\n             RSS\n            </a>\n           </li>\n           <li>\n            <a href=\"http://blogs.jpl.nasa.gov\">\n             Blog\n            </a>\n           </li>\n           <li>\n            <a href=\"/onthego/\">\n             Mobile\n            </a>\n           </li>\n           <li>\n            <a href=\"/social/\">\n             All Social Media\n            </a>\n           </li>\n          </ul>\n         </div>\n         <div class=\"footer_sitemap_item\">\n          <h3 class=\"sitemap_title\">\n           NASA\n          </h3>\n          <ul class=\"subnav\">\n           <li>\n            <a href=\"http://jplwater.nasa.gov\">\n             NASA Water Cleanup\n            </a>\n           </li>\n           <li>\n            <a href=\"http://www.hq.nasa.gov/office/pao/FOIA/agency/\">\n             FOIA\n            </a>\n           </li>\n          </ul>\n         </div>\n        </div>\n       </div>\n      </div>\n      <div class=\"gradient_line\">\n      </div>\n     </section>\n     <section class=\"lower_footer\">\n      <div class=\"nav_container\">\n       <nav>\n        <ul>\n         <li>\n          <a href=\"http://www.nasa.gov/\" target=\"_blank\">\n           NASA\n          </a>\n         </li>\n         |\n         <li>\n          <a href=\"http://www.caltech.edu/\" target=\"_blank\">\n           Caltech\n          </a>\n         </li>\n         |\n         <li>\n          <a href=\"/privacy\">\n           Privacy\n          </a>\n         </li>\n         |\n         <li>\n          <a href=\"/imagepolicy\">\n           Image Policy\n          </a>\n         </li>\n         |\n         <li>\n          <a href=\"/faq.php\">\n           FAQ\n          </a>\n         </li>\n         |\n         <li>\n          <a href=\"/contact_JPL.php\">\n           Feedback\n          </a>\n         </li>\n        </ul>\n       </nav>\n      </div>\n      <div class=\"credits\">\n       <span class=\"credits_manager\">\n        Site Manager: Veronica McGregor\n       </span>\n       <span class=\"credits_webmaster\">\n        Site Editors: Tony Greicius, Randal Jackson\n       </span>\n      </div>\n     </section>\n    </footer>\n   </div>\n  </div>\n  <script src=\"/assets/javascripts/vendor/prefixfree.js\" type=\"text/javascript\">\n  </script>\n  <script src=\"/assets/javascripts/vendor/prefixfree.jquery.js\" type=\"text/javascript\">\n  </script>\n  <script id=\"_fed_an_ua_tag\" src=\"https://dap.digitalgov.gov/Universal-Federated-Analytics-Min.js?agency=NASA&amp;pua=UA-45212297-1&amp;subagency=JPL&amp;dclink=true&amp;sp=search,s,q&amp;sdor=false&amp;exts=tif,tiff\" type=\"text/javascript\">\n  </script>\n  <script type=\"text/javascript\">\n   setTimeout(function(){var a=document.createElement(\"script\");\nvar b=document.getElementsByTagName(\"script\")[0];\na.src=document.location.protocol+\"//script.crazyegg.com/pages/scripts/0025/5267.js?\"+Math.floor(new Date().getTime()/3600000);\na.async=true;a.type=\"text/javascript\";b.parentNode.insertBefore(a,b)}, 1);\n  </script>\n </body>\n <!-- END FOOTER: \"DEFAULT\" -->\n</html>\n\n"
    }
   ],
   "source": [
    "# Examine the BeautifulSoup object\n",
    "# print(chicken_noodle.prettify())"
   ]
  },
  {
   "cell_type": "code",
   "execution_count": 20,
   "metadata": {},
   "outputs": [
    {
     "output_type": "execute_result",
     "data": {
      "text/plain": "[<article alt=\"Jewel of the Solar System\" class=\"carousel_item\" style=\"background-image: url('/spaceimages/images/wallpaper/PIA17474-1920x1200.jpg');\">\n <div class=\"default floating_text_area ms-layer\">\n <h2 class=\"category_title\">\n </h2>\n <h2 class=\"brand_title\">\n \t\t\t\t  FEATURED IMAGE\n \t\t\t\t</h2>\n <h1 class=\"media_feature_title\">\n \t\t\t\t  Jewel of the Solar System\t\t\t\t</h1>\n <div class=\"description\">\n </div>\n <footer>\n <a class=\"button fancybox\" data-description=\"A swing high above Saturn by NASA's Cassini spacecraft revealed this stately view of the golden-hued planet and its main rings. Saturn sports differently colored bands of weather in this image.\" data-fancybox-group=\"images\" data-fancybox-href=\"/spaceimages/images/mediumsize/PIA17474_ip.jpg\" data-link=\"/spaceimages/details.php?id=PIA17474\" data-title=\"Jewel of the Solar System\" id=\"full_image\">\n \t\t\t\t\tFULL IMAGE\n \t\t\t\t  </a>\n </footer>\n </div>\n <div class=\"gradient_container_top\"></div>\n <div class=\"gradient_container_bottom\"></div>\n </article>]"
     },
     "metadata": {},
     "execution_count": 20
    }
   ],
   "source": [
    "# Scrape the featured image from the JPL Mars Space Images site\n",
    "# featured_image_url = chicken_noodle.find_all('div', class_='img')\n",
    "# featured_image_url\n",
    "## THIS ISN'T GIVING ME THE FEATURED IMAGE.. It's giving all the little \"Mars Images\" underneath it\n",
    "\n",
    "# featured_image_url = chicken_noodle.find_all('div',class_='carousel_items')\n",
    "# featured_image_url\n",
    "\n",
    "# featured_image_url = chicken_noodle.find_all('article',class_='carousel_item')\n",
    "# featured_image_url = chicken_noodle.find_all('article',class_='carousel_item',style_='background-image')\n",
    "# featured_image_url"
   ]
  },
  {
   "cell_type": "code",
   "execution_count": 22,
   "metadata": {},
   "outputs": [],
   "source": [
    "# Navigate to featured image url\n",
    "browser.click_link_by_partial_text('FULL IMAGE')"
   ]
  },
  {
   "cell_type": "code",
   "execution_count": 31,
   "metadata": {},
   "outputs": [
    {
     "output_type": "execute_result",
     "data": {
      "text/plain": "ory%3DMars&amp;href=https%3A%2F%2Fwww.jpl.nasa.gov%2Fspaceimages%2F&amp;dt=Space%20Images&amp;dbg=0&amp;cap=tc%3D0%26ab%3D0&amp;inst=1&amp;jsl=1&amp;prod=undefined&amp;lng=en&amp;ogt=&amp;pc=men&amp;pub=&amp;ssl=1&amp;sid=5ed27852d4358544&amp;srf=0.01&amp;ver=300&amp;xck=1&amp;xtr=0&amp;og=&amp;csi=undefined&amp;rev=v8.28.5-wp&amp;ct=1&amp;xld=1&amp;xd=1\"></iframe></div><style id=\"service-icons-0\"></style><div id=\"fancybox-lock\" style=\"overflow: auto;\"><div class=\"fancybox-wrap fancybox-dark fancybox-type-image fancybox-desktop fancybox-dark-desktop fancybox-open\" style=\"margin: 30px 55px 98px; padding-top: 10px; padding-right: 10px; padding-left: 10px; width: 294px; height: 420px; top: 239px; left: 0px; opacity: 1; overflow: visible;\"><div class=\"fancybox-inner fancybox-skin fancybox-dark-skin fancybox-dark-skin-open\" style=\"border-width: 10px; margin-top: -10px; margin-left: -10px; overflow: visible; width: 294px; height: 294px;\"><img src=\"/spaceimages/images/mediumsize/PIA19092_ip.jpg\" class=\"fancybox-image\" style=\"display: inline;\" /><a title=\"Previous\" class=\"fancybox-nav fancybox-prev\" href=\"javascript:;\"><span></span></a><a title=\"Next\" class=\"fancybox-nav fancybox-next\" href=\"javascript:;\"><span></span></a><a title=\"Display actual size\" class=\"fancybox-expand\" href=\"javascript:;\" style=\"display: none;\"></a></div><div class=\"fancybox-title fancybox-title-outside-wrap\" style=\"visibility: visible; opacity: 1; left: 0px;\">December 2014 View of Rosetta\\'s Destination Comet<div class=\"addthis_toolbox addthis_default_style\" addthis:url=\"/spaceimages/details.php?id=PIA19092\" addthis:title=\"December 2014 View of Rosetta\" s=\"\" destination=\"\" comet\\'=\"\" addthis:description=\"This mosaic of images from the navigation camera on the Rosetta spacecraft shows the nucleus of comet 67P/Churyumov-Gerasimenko.\">   <div class=\"buttons\">     <a class=\"addthis_button_compact\" href=\"#\">       <img src=\"/assets/images/content/tmp/images/share.png\" />     </a>     <a class=\"button\" href=\"/spaceimages/details.php?id=PIA19092 \" target=\"_top\" tabindex=\"1000\">more info     </a>   </div><div class=\"atclear\"></div></div></div><a title=\"Close\" class=\"fancybox-close\" href=\"javascript:;\"></a><div class=\"fancybox-spacer\" style=\"height: 96px;\"></div></div></div><div class=\"fancybox-overlay fancybox-overlay-fixed fancybox-dark-overlay\"></div><div id=\"fancybox-thumbs\" class=\"bottom\" style=\"width: 424px;\"><a class=\"fancybox-thumb-prev\" href=\"javascript:;\" style=\"display: none;\"><span></span></a><div class=\"outer\"><div class=\"inner\"><ul style=\"width: 3003px; height: 58px; margin-left: 0px;\"><li class=\"fancybox-thumb-active\"><a data-index=\"0\" href=\"javascript:jQuery.fancybox.jumpto(0);\" class=\"ready\" style=\"width: 79px; height: 54px;\"><img src=\"/spaceimages/images/mediumsize/PIA19092_ip.jpg\" style=\"width: 75px; height: 75px; margin-top: -8px; margin-left: 0px;\" /></a></li><li><a data-index=\"1\" href=\"javascript:jQuery.fancybox.jumpto(1);\" class=\"ready\" style=\"width: 79px; height: 54px;\"><img src=\"/spaceimages/images/wallpaper/PIA23932-640x350.jpg\" style=\"width: 91px; height: 50px; margin-top: 0px; margin-left: -9px;\" /></a></li><li><a data-index=\"2\" href=\"javascript:jQuery.fancybox.jumpto(2);\" class=\"ready\" style=\"width: 79px; height: 54px;\"><img src=\"/spaceimages/images/wallpaper/PIA23931-640x350.jpg\" style=\"width: 91px; height: 50px; margin-top: 0px; margin-left: -9px;\" /></a></li><li><a data-index=\"3\" href=\"javascript:jQuery.fancybox.jumpto(3);\" class=\"ready\" style=\"width: 79px; height: 54px;\"><img src=\"/spaceimages/images/wallpaper/PIA23930-640x350.jpg\" style=\"width: 91px; height: 50px; margin-top: 0px; margin-left: -9px;\" /></a></li><li><a data-index=\"4\" href=\"javascript:jQuery.fancybox.jumpto(4);\" class=\"ready\" style=\"width: 79px; height: 54px;\"><img src=\"/spaceimages/images/wallpaper/PIA23929-640x350.jpg\" style=\"width: 91px; height: 50px; margin-top: 0px; margin-left: -9px;\" /></a></li><li><a data-index=\"5\" href=\"javascript:jQuery.fancybox.jumpto(5);\" class=\"ready\" style=\"width: 79px; height: 54px;\"><img src=\"/spaceimages/images/wallpaper/PIA23928-640x350.jpg\" style=\"width: 91px; height: 50px; margin-top: 0px; margin-left: -9px;\" /></a></li><li><a data-index=\"6\" href=\"javascript:jQuery.fancybox.jumpto(6);\" class=\"ready\" style=\"width: 79px; height: 54px;\"><img src=\"/spaceimages/images/wallpaper/PIA23927-640x350.jpg\" style=\"width: 91px; height: 50px; margin-top: 0px; margin-left: -9px;\" /></a></li><li><a data-index=\"7\" href=\"javascript:jQuery.fancybox.jumpto(7);\" class=\"ready\" style=\"width: 79px; height: 54px;\"><img src=\"/spaceimages/images/wallpaper/PIA23926-640x350.jpg\" style=\"width: 91px; height: 50px; margin-top: 0px; margin-left: -9px;\" /></a></li><li><a data-index=\"8\" href=\"javascript:jQuery.fancybox.jumpto(8);\" style=\"width: 79px; height: 54px;\"></a></li><li><a data-index=\"9\" href=\"javascript:jQuery.fancybox.jumpto(9);\" style=\"width: 79px; height: 54px;\"></a></li><li><a data-index=\"10\" href=\"javascript:jQuery.fancybox.jumpto(10);\" style=\"width: 79px; height: 54px;\"></a></li><li><a data-index=\"11\" href=\"javascript:jQuery.fancybox.jumpto(11);\" style=\"width: 79px; height: 54px;\"></a></li><li><a data-index=\"12\" href=\"javascript:jQuery.fancybox.jumpto(12);\" style=\"width: 79px; height: 54px;\"></a></li><li><a data-index=\"13\" href=\"javascript:jQuery.fancybox.jumpto(13);\" style=\"width: 79px; height: 54px;\"></a></li><li><a data-index=\"14\" href=\"javascript:jQuery.fancybox.jumpto(14);\" style=\"width: 79px; height: 54px;\"></a></li><li><a data-index=\"15\" href=\"javascript:jQuery.fancybox.jumpto(15);\" style=\"width: 79px; height: 54px;\"></a></li><li><a data-index=\"16\" href=\"javascript:jQuery.fancybox.jumpto(16);\" style=\"width: 79px; height: 54px;\"></a></li><li><a data-index=\"17\" href=\"javascript:jQuery.fancybox.jumpto(17);\" style=\"width: 79px; height: 54px;\"></a></li><li><a data-index=\"18\" href=\"javascript:jQuery.fancybox.jumpto(18);\" style=\"width: 79px; height: 54px;\"></a></li><li><a data-index=\"19\" href=\"javascript:jQuery.fancybox.jumpto(19);\" style=\"width: 79px; height: 54px;\"></a></li><li><a data-index=\"20\" href=\"javascript:jQuery.fancybox.jumpto(20);\" style=\"width: 79px; height: 54px;\"></a></li><li><a data-index=\"21\" href=\"javascript:jQuery.fancybox.jumpto(21);\" style=\"width: 79px; height: 54px;\"></a></li><li><a data-index=\"22\" href=\"javascript:jQuery.fancybox.jumpto(22);\" style=\"width: 79px; height: 54px;\"></a></li><li><a data-index=\"23\" href=\"javascript:jQuery.fancybox.jumpto(23);\" style=\"width: 79px; height: 54px;\"></a></li><li><a data-index=\"24\" href=\"javascript:jQuery.fancybox.jumpto(24);\" style=\"width: 79px; height: 54px;\"></a></li><li><a data-index=\"25\" href=\"javascript:jQuery.fancybox.jumpto(25);\" style=\"width: 79px; height: 54px;\"></a></li><li><a data-index=\"26\" href=\"javascript:jQuery.fancybox.jumpto(26);\" style=\"width: 79px; height: 54px;\"></a></li><li><a data-index=\"27\" href=\"javascript:jQuery.fancybox.jumpto(27);\" style=\"width: 79px; height: 54px;\"></a></li><li><a data-index=\"28\" href=\"javascript:jQuery.fancybox.jumpto(28);\" style=\"width: 79px; height: 54px;\"></a></li><li><a data-index=\"29\" href=\"javascript:jQuery.fancybox.jumpto(29);\" style=\"width: 79px; height: 54px;\"></a></li><li><a data-index=\"30\" href=\"javascript:jQuery.fancybox.jumpto(30);\" style=\"width: 79px; height: 54px;\"></a></li><li><a data-index=\"31\" href=\"javascript:jQuery.fancybox.jumpto(31);\" style=\"width: 79px; height: 54px;\"></a></li><li><a data-index=\"32\" href=\"javascript:jQuery.fancybox.jumpto(32);\" style=\"width: 79px; height: 54px;\"></a></li></ul></div></div><a class=\"fancybox-thumb-next\" href=\"javascript:;\" style=\"display: inline;\"><span></span></a></div><div id=\"at-expanded-menu-host\"><div id=\"at-expanded-menu-container\" role=\"dialog\" arialabeledby=\"at-expanded-menu-title\" tabindex=\"0\" class=\" at-expanded-menu-hidden\"><button aria-label=\"Close\" class=\"at-expanded-menu-close\"><span>×</span></button><div class=\"at-win-mask at-expanded-menu-mask\"></div><div class=\"at-expanded-menu at-expanded-menu-round\"><div id=\"at-expanded-menu-hd\" class=\"at-expanded-menu-hd\"><span id=\"at-expanded-menu-title\" class=\"at-expanded-menu-title\">Share</span><div><span class=\"at-expanded-menu-page-title\">December 2014 View of Rosetta</span><span class=\"at-expanded-menu-page-url\">/spaceimages/details.php?id=PIA19092</span></div><form id=\"at-expanded-menu-filter-form\"><div id=\"at-expanded-menu-filter\" role=\"search\" class=\"at-expanded-menu-search\"><input type=\"text\" size=\"30\" maxlength=\"50\" autofocus=\"\" autocomplete=\"off\" id=\"at-expanded-menu-service-filter\" value=\"\" class=\"at-expanded-menu-search-input initial-render\" /><label htmlfor=\"at-expanded-menu-service-filter\" class=\"at-expanded-menu-search-label\"><span class=\"at-expanded-menu-search-label-content\"></span></label><span class=\"at-expanded-menu-search-icon\"></span></div></form></div><div id=\"at-expanded-menu-bd\"><h4 class=\"at-expanded-menu-top-services-header\"></h4><ul id=\"at-expanded-menu-top-service-list-container\" role=\"menu\" class=\"at-expanded-menu-service-list\"><li style=\"background-color: #848484; height: 84px; opacity: 0.6;\"><button class=\"at-expanded-menu-button\"></button><span class=\"at-expanded-menu-button-label\"></span></li><li style=\"background-color: #848484; height: 84px; opacity: 0.6;\"><button class=\"at-expanded-menu-button\"></button><span class=\"at-expanded-menu-button-label\"></span></li><li style=\"background-color: #848484; height: 84px; opacity: 0.6;\"><button class=\"at-expanded-menu-button\"></button><span class=\"at-expanded-menu-button-label\"></span></li><li style=\"background-color: #848484; height: 84px; opacity: 0.6;\"><button class=\"at-expanded-menu-button\"></button><span class=\"at-expanded-menu-button-label\"></span></li><li style=\"background-color: #848484; height: 84px; opacity: 0.6;\"><button class=\"at-expanded-menu-button\"></button><span class=\"at-expanded-menu-button-label\"></span></li><li style=\"background-color: #848484; height: 84px; opacity: 0.6;\"><button class=\"at-expanded-menu-button\"></button><span class=\"at-expanded-menu-button-label\"></span></li><li style=\"background-color: #848484; height: 84px; opacity: 0.6;\"><button class=\"at-expanded-menu-button\"></button><span class=\"at-expanded-menu-button-label\"></span></li><li style=\"background-color: #848484; height: 84px; opacity: 0.6;\"><button class=\"at-expanded-menu-button\"></button><span class=\"at-expanded-menu-button-label\"></span></li><li style=\"background-color: #848484; height: 84px; opacity: 0.6;\"><button class=\"at-expanded-menu-button\"></button><span class=\"at-expanded-menu-button-label\"></span></li><li style=\"background-color: #848484; height: 84px; opacity: 0.6;\"><button class=\"at-expanded-menu-button\"></button><span class=\"at-expanded-menu-button-label\"></span></li></ul><div class=\"at-expanded-menu-ft\"><span class=\"at-expanded-menu-ft-loading\">Loading Services</span><div class=\"loading-container \"><div class=\"loading-spinner\"></div></div></div></div></div><div>&lt;a class=\"at-branding-logo\" href=\"https://www.addthis.com/website-tools/overview?utm_source=AddThis%20Tools&amp;amp;utm_medium=image&amp;amp;utm_campaign=AddThis%20expanded%20menu\" title=\"Powered by AddThis\" target=\"_blank\"&gt;&lt;div class=\"at-branding-icon\"&gt;&lt;/div&gt;&lt;span class=\"at-branding-addthis\"&gt;AddThis&lt;/span&gt;&lt;/a&gt;</div><div class=\"at-expanded-menu-fade\"></div></div></div><div id=\"at20mc\" class=\"\" style=\"z-index: 1000000; position: static;\"><div id=\"at15s\" class=\" atm\" onmouseover=\"_atw.xwa()\" onmouseout=\"if (this.className.indexOf(\\'border\\')==-1) addthis_close()\" style=\"z-index: 1000000; position: absolute; visibility: visible; top: 695.281px; left: 115.453px; display: none;\"><div class=\"atm-i\"><div id=\"at15s_head\" style=\"display: none;\"><span id=\"at15ptc\">Bookmark &amp; Share</span><span id=\"at15s_brand\" class=\"at15s_brandx\"></span><a id=\"at15sptx\" class=\"\" href=\"#\" tabindex=\"9000\" onclick=\"return _atw.clb()\" onkeydown=\"if(!e){var e = window.event||event;}if(e.keyCode){_ate.maf.key=e.keyCode;}else{if(e.which){_ate.maf.key=e.which;}}if(_ate.maf.key==9){ addthis_close(); _ate.maf.sib.tabIndex=9001;_ate.maf.sib.focus();}else{/*alert(_ate.maf.key)*/} _ate.maf.key=null\">X</a></div><div id=\"at_hover\" class=\"atm-s\" style=\"display: block;\"><a id=\"atic_facebook\" href=\"#\"><span class=\"at-icon-wrapper\" style=\"background-color: rgb(59, 89, 152);\"><svg xmlns=\"http://www.w3.org/2000/svg\" xmlns:xlink=\"http://www.w3.org/1999/xlink\" viewBox=\"0 0 32 32\" version=\"1.1\" role=\"img\" aria-labelledby=\"at-svg-facebook-9\" title=\"Facebook\" alt=\"Facebook\" class=\"at-icon at-icon-facebook\"><title xmlns=\"http://www.w3.org/1999/xhtml\" id=\"at-svg-facebook-9\">Facebook</title><g><path d=\"M22 5.16c-.406-.054-1.806-.16-3.43-.16-3.4 0-5.733 1.825-5.733 5.17v2.882H9v3.913h3.837V27h4.604V16.965h3.823l.587-3.913h-4.41v-2.5c0-1.123.347-1.903 2.198-1.903H22V5.16z\" fill-rule=\"evenodd\"/></g></svg></span><span class=\"at-label  at-size-16\">Facebook</span></a><a id=\"atic_twitter\" href=\"#\"><span class=\"at-icon-wrapper\" style=\"background-color: rgb(29, 161, 242);\"><svg xmlns=\"http://www.w3.org/2000/svg\" xmlns:xlink=\"http://www.w3.org/1999/xlink\" viewBox=\"0 0 32 32\" version=\"1.1\" role=\"img\" aria-labelledby=\"at-svg-twitter-10\" title=\"Twitter\" alt=\"Twitter\" class=\"at-icon at-icon-twitter\"><title xmlns=\"http://www.w3.org/1999/xhtml\" id=\"at-svg-twitter-10\">Twitter</title><g><path d=\"M27.996 10.116c-.81.36-1.68.602-2.592.71a4.526 4.526 0 0 0 1.984-2.496 9.037 9.037 0 0 1-2.866 1.095 4.513 4.513 0 0 0-7.69 4.116 12.81 12.81 0 0 1-9.3-4.715 4.49 4.49 0 0 0-.612 2.27 4.51 4.51 0 0 0 2.008 3.755 4.495 4.495 0 0 1-2.044-.564v.057a4.515 4.515 0 0 0 3.62 4.425 4.52 4.52 0 0 1-2.04.077 4.517 4.517 0 0 0 4.217 3.134 9.055 9.055 0 0 1-5.604 1.93A9.18 9.18 0 0 1 6 23.85a12.773 12.773 0 0 0 6.918 2.027c8.3 0 12.84-6.876 12.84-12.84 0-.195-.005-.39-.014-.583a9.172 9.172 0 0 0 2.252-2.336\" fill-rule=\"evenodd\"/></g></svg></span><span class=\"at-label  at-size-16\">Twitter</span></a><a id=\"atic_print\" href=\"#\"><span class=\"at-icon-wrapper\" style=\"background-color: rgb(115, 138, 141);\"><svg xmlns=\"http://www.w3.org/2000/svg\" xmlns:xlink=\"http://www.w3.org/1999/xlink\" viewBox=\"0 0 32 32\" version=\"1.1\" role=\"img\" aria-labelledby=\"at-svg-print-11\" title=\"Print\" alt=\"Print\" class=\"at-icon at-icon-print\"><title xmlns=\"http://www.w3.org/1999/xhtml\" id=\"at-svg-print-11\">Print</title><g><path d=\"M24.67 10.62h-2.86V7.49H10.82v3.12H7.95c-.5 0-.9.4-.9.9v7.66h3.77v1.31L15 24.66h6.81v-5.44h3.77v-7.7c-.01-.5-.41-.9-.91-.9zM11.88 8.56h8.86v2.06h-8.86V8.56zm10.98 9.18h-1.05v-2.1h-1.06v7.96H16.4c-1.58 0-.82-3.74-.82-3.74s-3.65.89-3.69-.78v-3.43h-1.06v2.06H9.77v-3.58h13.09v3.61zm.75-4.91c-.4 0-.72-.32-.72-.72s.32-.72.72-.72c.4 0 .72.32.72.72s-.32.72-.72.72zm-4.12 2.96h-6.1v1.06h6.1v-1.06zm-6.11 3.15h6.1v-1.06h-6.1v1.06z\"/></g></svg></span><span class=\"at-label  at-size-16\">Print</span></a><a id=\"atic_pinterest_share\" href=\"#\"><span class=\"at-icon-wrapper\" style=\"background-color: rgb(203, 32, 39);\"><svg xmlns=\"http://www.w3.org/2000/svg\" xmlns:xlink=\"http://www.w3.org/1999/xlink\" viewBox=\"0 0 32 32\" version=\"1.1\" role=\"img\" aria-labelledby=\"at-svg-pinterest_share-12\" title=\"Pinterest\" alt=\"Pinterest\" class=\"at-icon at-icon-pinterest_share\"><title xmlns=\"http://www.w3.org/1999/xhtml\" id=\"at-svg-pinterest_share-12\">Pinterest</title><g><path d=\"M7 13.252c0 1.81.772 4.45 2.895 5.045.074.014.178.04.252.04.49 0 .772-1.27.772-1.63 0-.428-1.174-1.34-1.174-3.123 0-3.705 3.028-6.33 6.947-6.33 3.37 0 5.863 1.782 5.863 5.058 0 2.446-1.054 7.035-4.468 7.035-1.232 0-2.286-.83-2.286-2.018 0-1.742 1.307-3.43 1.307-5.225 0-1.092-.67-1.977-1.916-1.977-1.692 0-2.732 1.77-2.732 3.165 0 .774.104 1.63.476 2.336-.683 2.736-2.08 6.814-2.08 9.633 0 .87.135 1.728.224 2.6l.134.137.207-.07c2.494-3.178 2.405-3.8 3.533-7.96.61 1.077 2.182 1.658 3.43 1.658 5.254 0 7.614-4.77 7.614-9.067C26 7.987 21.755 5 17.094 5 12.017 5 7 8.15 7 13.252z\" fill-rule=\"evenodd\"/></g></svg></span><span class=\"at-label  at-size-16\">Pinterest</span></a><a id=\"atic_gmail\" href=\"#\"><span class=\"at-icon-wrapper\" style=\"background-color: rgb(219, 68, 55);\"><svg xmlns=\"http://www.w3.org/2000/svg\" xmlns:xlink=\"http://www.w3.org/1999/xlink\" viewBox=\"0 0 32 32\" version=\"1.1\" role=\"img\" aria-labelledby=\"at-svg-gmail-13\" title=\"Gmail\" alt=\"Gmail\" class=\"at-icon at-icon-gmail\"><title xmlns=\"http://www.w3.org/1999/xhtml\" id=\"at-svg-gmail-13\">Gmail</title><g><g fill-rule=\"evenodd\"/><path opacity=\".3\" d=\"M7.03 8h17.94v17H7.03z\"/><path d=\"M7.225 8h-.41C5.815 8 5 8.84 5 9.876v13.248C5 24.16 5.812 25 6.815 25h.962V12.714L16 19.26l8.223-6.546V25h.962C26.188 25 27 24.16 27 23.124V9.876C27 8.84 26.186 8 25.185 8h-.41L16 15.506 7.225 8z\"/></g></svg></span><span class=\"at-label  at-size-16\">Gmail</span></a><a id=\"atic_linkedin\" href=\"#\"><span class=\"at-icon-wrapper\" style=\"background-color: rgb(0, 119, 181);\"><svg xmlns=\"http://www.w3.org/2000/svg\" xmlns:xlink=\"http://www.w3.org/1999/xlink\" viewBox=\"0 0 32 32\" version=\"1.1\" role=\"img\" aria-labelledby=\"at-svg-linkedin-14\" title=\"LinkedIn\" alt=\"LinkedIn\" class=\"at-icon at-icon-linkedin\"><title xmlns=\"http://www.w3.org/1999/xhtml\" id=\"at-svg-linkedin-14\">LinkedIn</title><g><path d=\"M26 25.963h-4.185v-6.55c0-1.56-.027-3.57-2.175-3.57-2.18 0-2.51 1.7-2.51 3.46v6.66h-4.182V12.495h4.012v1.84h.058c.558-1.058 1.924-2.174 3.96-2.174 4.24 0 5.022 2.79 5.022 6.417v7.386zM8.23 10.655a2.426 2.426 0 0 1 0-4.855 2.427 2.427 0 0 1 0 4.855zm-2.098 1.84h4.19v13.468h-4.19V12.495z\" fill-rule=\"evenodd\"/></g></svg></span><span class=\"at-label  at-size-16\">LinkedIn</span></a><a id=\"atic_mailto\" href=\"#\"><span class=\"at-icon-wrapper\" style=\"background-color: rgb(88, 88, 88);\"><svg xmlns=\"http://www.w3.org/2000/svg\" xmlns:xlink=\"http://www.w3.org/1999/xlink\" viewBox=\"0 0 32 32\" version=\"1.1\" role=\"img\" aria-labelledby=\"at-svg-mailto-15\" title=\"Email App\" alt=\"Email App\" class=\"at-icon at-icon-mailto\"><title xmlns=\"http://www.w3.org/1999/xhtml\" id=\"at-svg-mailto-15\">Email App</title><g><g fill-rule=\"evenodd\"/><path d=\"M26.684 23.264H4.948v-12.88l.2-.1c.303-.202 7.046-4.73 8.152-5.435 1.41-.907 3.22-.806 4.63.1 1.308.804 8.453 5.333 8.453 5.333l.2.1.1 12.88zm-20.63-1.006H25.68v-11.27c-1.207-.806-7.044-4.53-8.252-5.133-1.107-.704-2.515-.704-3.622-.1-1.007.603-6.743 4.528-7.95 5.232.2.1.2 11.27.2 11.27z\"/><path d=\"M21.753 16.622H10.08a1.59 1.59 0 0 1-1.61-1.61v-3.02c0-.905.704-1.61 1.61-1.61h11.673c.906 0 1.61.705 1.61 1.61v3.02a1.59 1.59 0 0 1-1.61 1.61zM9.98 11.49c-.404 0-.605.302-.605.604v3.02c0 .4.302.603.604.603H21.65c.403 0 .604-.302.604-.604v-3.02c0-.402-.302-.603-.604-.603H9.98z\"/><path d=\"M25.778 21.956v-10.97l-5.837 4.53 5.838 6.44zM5.954 21.956v-10.97l5.837 4.53-5.836 6.44z\"/><path d=\"M25.778 22.76l-6.138-6.74h-7.548l-6.137 6.74-.806-.603 6.54-7.145h8.353l6.54 7.145-.805.604z\"/><path d=\"M25.945 10.334l.61.8-6.32 4.823-.61-.8zM5.902 10.386l6.326 4.814-.61.802-6.326-4.815zM15.816 17.83l.302 8.252 2.013-2.516 2.013 4.226 1.107-.503-2.113-4.227 3.22-.2-6.54-5.033z\"/></g></svg></span><span class=\"at-label  at-size-16\">Email App</span></a><a id=\"atic_more\" href=\"#\"><span class=\"at-icon-wrapper\" style=\"background-color: rgb(255, 101, 80);\"><svg xmlns=\"http://www.w3.org/2000/svg\" xmlns:xlink=\"http://www.w3.org/1999/xlink\" viewBox=\"0 0 32 32\" version=\"1.1\" role=\"img\" aria-labelledby=\"at-svg-addthis-16\" title=\"More...\" alt=\"More...\" class=\"at-icon at-icon-addthis\"><title xmlns=\"http://www.w3.org/1999/xhtml\" id=\"at-svg-addthis-16\">AddThis</title><g><path d=\"M18 14V8h-4v6H8v4h6v6h4v-6h6v-4h-6z\" fill-rule=\"evenodd\"/></g></svg></span><span class=\"at-label  at-size-16\">More... (181)</span></a><div style=\"clear: both;\"></div></div><div class=\"atm-f\" id=\"at15pf\"><div><a class=\"at-branding-logo\" href=\"https://www.addthis.com/website-tools/overview?utm_source=AddThis%20Tools&amp;utm_medium=image&amp;utm_campaign=AddThis%20compact%20menu\" title=\"Powered by AddThis\" target=\"_blank\"><div class=\"at-branding-icon\"></div><span class=\"at-branding-addthis\">AddThis</span></a></div></div></div></div></div></body></html>'"
     },
     "metadata": {},
     "execution_count": 31
    }
   ],
   "source": [
    "current_html = browser.html"
   ]
  },
  {
   "cell_type": "code",
   "execution_count": 24,
   "metadata": {},
   "outputs": [],
   "source": [
    "# Create BeautifulSoup object of page currently on browser\n",
    "image_soup = bs(current_html,'html.parser')"
   ]
  },
  {
   "cell_type": "code",
   "execution_count": 25,
   "metadata": {
    "tags": [
     "outputPrepend"
    ]
   },
   "outputs": [
    {
     "output_type": "stream",
     "name": "stdout",
     "text": " 32px; height: 32px;\" title=\"Facebook\" version=\"1.1\" viewbox=\"0 0 32 32\" xmlns=\"http://www.w3.org/2000/svg\" xmlns:xlink=\"http://www.w3.org/1999/xlink\">\n             <title id=\"at-svg-facebook-5\" xmlns=\"http://www.w3.org/1999/xhtml\">\n              Facebook\n             </title>\n             <g>\n              <path d=\"M22 5.16c-.406-.054-1.806-.16-3.43-.16-3.4 0-5.733 1.825-5.733 5.17v2.882H9v3.913h3.837V27h4.604V16.965h3.823l.587-3.913h-4.41v-2.5c0-1.123.347-1.903 2.198-1.903H22V5.16z\" fill-rule=\"evenodd\">\n              </path>\n             </g>\n            </svg>\n           </span>\n           <span class=\"addthis_follow_label\">\n            Facebook\n           </span>\n          </a>\n          <a addthis:userid=\"NASAJPL\" class=\"addthis_button_twitter_follow icon at300b\" href=\"//twitter.com/NASAJPL\" target=\"_blank\" title=\"Follow on Twitter\">\n           <span class=\"at-icon-wrapper\" style=\"background-color: rgb(29, 161, 242); line-height: 32px; height: 32px; width: 32px;\">\n            <svg alt=\"Twitter\" aria-labelledby=\"at-svg-twitter-6\" class=\"at-icon at-icon-twitter\" role=\"img\" style=\"width: 32px; height: 32px;\" title=\"Twitter\" version=\"1.1\" viewbox=\"0 0 32 32\" xmlns=\"http://www.w3.org/2000/svg\" xmlns:xlink=\"http://www.w3.org/1999/xlink\">\n             <title id=\"at-svg-twitter-6\" xmlns=\"http://www.w3.org/1999/xhtml\">\n              Twitter\n             </title>\n             <g>\n              <path d=\"M27.996 10.116c-.81.36-1.68.602-2.592.71a4.526 4.526 0 0 0 1.984-2.496 9.037 9.037 0 0 1-2.866 1.095 4.513 4.513 0 0 0-7.69 4.116 12.81 12.81 0 0 1-9.3-4.715 4.49 4.49 0 0 0-.612 2.27 4.51 4.51 0 0 0 2.008 3.755 4.495 4.495 0 0 1-2.044-.564v.057a4.515 4.515 0 0 0 3.62 4.425 4.52 4.52 0 0 1-2.04.077 4.517 4.517 0 0 0 4.217 3.134 9.055 9.055 0 0 1-5.604 1.93A9.18 9.18 0 0 1 6 23.85a12.773 12.773 0 0 0 6.918 2.027c8.3 0 12.84-6.876 12.84-12.84 0-.195-.005-.39-.014-.583a9.172 9.172 0 0 0 2.252-2.336\" fill-rule=\"evenodd\">\n              </path>\n             </g>\n            </svg>\n           </span>\n           <span class=\"addthis_follow_label\">\n            Twitter\n           </span>\n          </a>\n          <a addthis:userid=\"JPLnews\" class=\"addthis_button_youtube_follow icon at300b\" href=\"http://www.youtube.com/user/JPLnews?sub_confirmation=1\" target=\"_blank\" title=\"Follow on YouTube\">\n           <span class=\"at-icon-wrapper\" style=\"background-color: rgb(205, 32, 31); line-height: 32px; height: 32px; width: 32px;\">\n            <svg alt=\"YouTube\" aria-labelledby=\"at-svg-youtube-7\" class=\"at-icon at-icon-youtube\" role=\"img\" style=\"width: 32px; height: 32px;\" title=\"YouTube\" version=\"1.1\" viewbox=\"0 0 32 32\" xmlns=\"http://www.w3.org/2000/svg\" xmlns:xlink=\"http://www.w3.org/1999/xlink\">\n             <title id=\"at-svg-youtube-7\" xmlns=\"http://www.w3.org/1999/xhtml\">\n              YouTube\n             </title>\n             <g>\n              <path d=\"M13.73 18.974V12.57l5.945 3.212-5.944 3.192zm12.18-9.778c-.837-.908-1.775-.912-2.205-.965C20.625 8 16.007 8 16.007 8c-.01 0-4.628 0-7.708.23-.43.054-1.368.058-2.205.966-.66.692-.875 2.263-.875 2.263S5 13.303 5 15.15v1.728c0 1.845.22 3.69.22 3.69s.215 1.57.875 2.262c.837.908 1.936.88 2.426.975 1.76.175 7.482.23 7.482.15 0 .08 4.624.072 7.703-.16.43-.052 1.368-.057 2.205-.965.66-.69.875-2.262.875-2.262s.22-1.845.22-3.69v-1.73c0-1.844-.22-3.69-.22-3.69s-.215-1.57-.875-2.262z\" fill-rule=\"evenodd\">\n              </path>\n             </g>\n            </svg>\n           </span>\n           <span class=\"addthis_follow_label\">\n            YouTube\n           </span>\n          </a>\n          <a addthis:userid=\"nasajpl\" class=\"addthis_button_instagram_follow icon at300b\" href=\"http://instagram.com/nasajpl\" target=\"_blank\" title=\"Follow on Instagram\">\n           <span class=\"at-icon-wrapper\" style=\"background-color: rgb(224, 53, 102); line-height: 32px; height: 32px; width: 32px;\">\n            <svg alt=\"Instagram\" aria-labelledby=\"at-svg-instagram-8\" class=\"at-icon at-icon-instagram\" role=\"img\" style=\"width: 32px; height: 32px;\" title=\"Instagram\" version=\"1.1\" viewbox=\"0 0 32 32\" xmlns=\"http://www.w3.org/2000/svg\" xmlns:xlink=\"http://www.w3.org/1999/xlink\">\n             <title id=\"at-svg-instagram-8\" xmlns=\"http://www.w3.org/1999/xhtml\">\n              Instagram\n             </title>\n             <g>\n              <path d=\"M16 5c-2.987 0-3.362.013-4.535.066-1.17.054-1.97.24-2.67.512a5.392 5.392 0 0 0-1.95 1.268 5.392 5.392 0 0 0-1.267 1.95c-.272.698-.458 1.498-.512 2.67C5.013 12.637 5 13.012 5 16s.013 3.362.066 4.535c.054 1.17.24 1.97.512 2.67.28.724.657 1.337 1.268 1.95a5.392 5.392 0 0 0 1.95 1.268c.698.27 1.498.457 2.67.51 1.172.054 1.547.067 4.534.067s3.362-.013 4.535-.066c1.17-.054 1.97-.24 2.67-.51a5.392 5.392 0 0 0 1.95-1.27 5.392 5.392 0 0 0 1.268-1.95c.27-.698.457-1.498.51-2.67.054-1.172.067-1.547.067-4.534s-.013-3.362-.066-4.535c-.054-1.17-.24-1.97-.51-2.67a5.392 5.392 0 0 0-1.27-1.95 5.392 5.392 0 0 0-1.95-1.267c-.698-.272-1.498-.458-2.67-.512C19.363 5.013 18.988 5 16 5zm0 1.982c2.937 0 3.285.01 4.445.064 1.072.05 1.655.228 2.042.38.514.198.88.437 1.265.822.385.385.624.75.823 1.265.15.387.33.97.38 2.042.052 1.16.063 1.508.063 4.445 0 2.937-.01 3.285-.064 4.445-.05 1.072-.228 1.655-.38 2.042-.198.514-.437.88-.822 1.265-.385.385-.75.624-1.265.823-.387.15-.97.33-2.042.38-1.16.052-1.508.063-4.445.063-2.937 0-3.285-.01-4.445-.064-1.072-.05-1.655-.228-2.042-.38-.514-.198-.88-.437-1.265-.822a3.408 3.408 0 0 1-.823-1.265c-.15-.387-.33-.97-.38-2.042-.052-1.16-.063-1.508-.063-4.445 0-2.937.01-3.285.064-4.445.05-1.072.228-1.655.38-2.042.198-.514.437-.88.822-1.265.385-.385.75-.624 1.265-.823.387-.15.97-.33 2.042-.38 1.16-.052 1.508-.063 4.445-.063zm0 12.685a3.667 3.667 0 1 1 0-7.334 3.667 3.667 0 0 1 0 7.334zm0-9.316a5.65 5.65 0 1 0 0 11.3 5.65 5.65 0 0 0 0-11.3zm7.192-.222a1.32 1.32 0 1 1-2.64 0 1.32 1.32 0 0 1 2.64 0\" fill-rule=\"evenodd\">\n              </path>\n             </g>\n            </svg>\n           </span>\n           <span class=\"addthis_follow_label\">\n            Instagram\n           </span>\n          </a>\n          <a class=\"icon all_icon\" href=\"/social\">\n           <span>\n            All\n           </span>\n          </a>\n          <div class=\"atclear\">\n          </div>\n         </div>\n         <script>\n          addthis_loader.init(\"//s7.addthis.com/js/300/addthis_widget.js#pubid=ra-5429eeee4e460927\", {follow: true})\n         </script>\n        </div>\n       </div>\n      </div>\n      <div class=\"gradient_line\">\n      </div>\n     </section>\n     <section class=\"sitemap\">\n      <div class=\"grid_layout\">\n       <div class=\"sitemap_directory\">\n        <div class=\"sitemap_block\">\n         <div class=\"footer_sitemap_item\">\n          <h3 class=\"sitemap_title\">\n           about JPL\n          </h3>\n          <ul class=\"subnav\">\n           <li>\n            <a href=\"/about/\">\n             About JPL\n            </a>\n           </li>\n           <li>\n            <a href=\"https://www.jpl.nasa.gov/jpl2025/vision/\">\n             JPL Vision\n            </a>\n           </li>\n           <li>\n            <a href=\"/about/exec.php\">\n             Executive Council\n            </a>\n           </li>\n           <li>\n            <a href=\"/about/history.php\">\n             History\n            </a>\n           </li>\n           <li>\n            <a href=\"/about/reports.php\">\n             Annual Reports\n            </a>\n           </li>\n           <li>\n            <a href=\"/contact_JPL.php\">\n             Contact Us\n            </a>\n           </li>\n           <li>\n            <a href=\"/opportunities/\">\n             Opportunities\n            </a>\n           </li>\n           <li>\n            <a href=\"https://thejplstore.com\" target=\"_blank\">\n             JPL Online Store\n            </a>\n           </li>\n           <li>\n            <a href=\"/acquisition/\">\n             Doing Business with JPL\n            </a>\n           </li>\n          </ul>\n         </div>\n         <div class=\"footer_sitemap_item\">\n          <h3 class=\"sitemap_title\">\n           missions\n          </h3>\n          <ul class=\"subnav\">\n           <li>\n            <a href=\"/missions/?type=current\">\n             Current\n            </a>\n           </li>\n           <li>\n            <a href=\"/missions/?type=past\">\n             Past\n            </a>\n           </li>\n           <li>\n            <a href=\"/missions/?type=future\">\n             Future\n            </a>\n           </li>\n           <li>\n            <a href=\"/missions/?type=proposed\">\n             Proposed\n            </a>\n           </li>\n           <li>\n            <a href=\"/missions\">\n             All\n            </a>\n           </li>\n          </ul>\n         </div>\n        </div>\n        <div class=\"sitemap_block\">\n         <div class=\"footer_sitemap_item\">\n          <h3 class=\"sitemap_title\">\n           education\n          </h3>\n          <ul class=\"subnav\">\n           <li>\n            <a href=\"/edu/intern/\">\n             Intern\n            </a>\n           </li>\n           <li>\n            <a href=\"/edu/learn/\">\n             Learn\n            </a>\n           </li>\n           <li>\n            <a href=\"/edu/teach/\">\n             Teach\n            </a>\n           </li>\n           <li>\n            <a href=\"/edu/news/\">\n             News\n            </a>\n           </li>\n           <li>\n            <a href=\"/edu/events/\">\n             Events\n            </a>\n           </li>\n          </ul>\n         </div>\n         <div class=\"footer_sitemap_item\">\n          <h3 class=\"sitemap_title\">\n           news\n          </h3>\n          <ul class=\"subnav\">\n           <li>\n            <a href=\"/news\">\n             Latest News\n            </a>\n           </li>\n           <li>\n            <a href=\"/news/presskits.php\">\n             Press Kits\n            </a>\n           </li>\n           <li>\n            <a href=\"/news/factsheets.php\">\n             Fact Sheets\n            </a>\n           </li>\n           <li>\n            <a href=\"/news/mediainformation.php\">\n             Media Information\n            </a>\n           </li>\n           <li>\n            <a href=\"/universe/\">\n             Universe Newspaper\n            </a>\n           </li>\n          </ul>\n         </div>\n         <div class=\"footer_sitemap_item\">\n          <h3 class=\"sitemap_title\">\n           public events\n          </h3>\n          <ul class=\"subnav\">\n           <li>\n            <a href=\"/events/\">\n             Overview\n            </a>\n           </li>\n           <li>\n            <a href=\"/events/tours/views/\">\n             Tours\n            </a>\n           </li>\n           <li>\n            <a href=\"/events/lectures.php\">\n             Lecture Series\n            </a>\n           </li>\n           <li>\n            <a href=\"/events/speakers-bureau.php\">\n             Speakers Bureau\n            </a>\n           </li>\n           <li>\n            <a href=\"/events/team-competitions.php\">\n             Team Competitions\n            </a>\n           </li>\n           <li>\n            <a href=\"/events/special-events.php\">\n             Special Events\n            </a>\n           </li>\n          </ul>\n         </div>\n        </div>\n        <div class=\"sitemap_block\">\n         <div class=\"footer_sitemap_item\">\n          <h3 class=\"sitemap_title\">\n           Our Sites\n          </h3>\n          <ul class=\"subnav\">\n           <li>\n            <a href=\"/asteroidwatch/\">\n             Asteroid Watch\n            </a>\n           </li>\n           <li>\n            <a href=\"https://solarsystem.nasa.gov/basics/\" target=\"_blank\">\n             Basics of Spaceflight\n            </a>\n           </li>\n           <a href=\"https://solarsystem.nasa.gov/basics/\" target=\"_blank\">\n           </a>\n           <li>\n            <a href=\"https://solarsystem.nasa.gov/basics/\" target=\"_blank\">\n            </a>\n            <a href=\"https://saturn.jpl.nasa.gov/index.cfm\">\n             Cassini - Mission to Saturn\n            </a>\n           </li>\n           <li>\n            <a href=\"https://climatekids.nasa.gov/index.cfm\">\n             Climate Kids\n            </a>\n           </li>\n           <li>\n            <a href=\"https://climate.nasa.gov\">\n             Earth / Global Climate Change\n            </a>\n           </li>\n           <li>\n            <a href=\"https://planetquest.jpl.nasa.gov\">\n             Exoplanet Exploration\n            </a>\n           </li>\n           <li>\n            <a href=\"/missions/juno/\">\n             Juno - Mission to Jupiter\n            </a>\n           </li>\n           <li>\n            <a href=\"https://mars.nasa.gov/\">\n             Mars Exploration\n            </a>\n           </li>\n           <li>\n            <a href=\"https://scienceandtechnology.jpl.nasa.gov/\">\n             Science and Technology\n            </a>\n           </li>\n           <li>\n            <a href=\"https://solarsystem.nasa.gov/\">\n             Solar System Exploration\n            </a>\n           </li>\n           <li>\n            <a href=\"https://spaceplace.nasa.gov/\">\n             Space Place\n            </a>\n           </li>\n           <li>\n            <a href=\"https://eyes.nasa.gov/\">\n             NASA's Eyes\n            </a>\n           </li>\n           <li>\n            <a href=\"https://www.spitzer.caltech.edu/\">\n             Spitzer Space Telescope\n            </a>\n           </li>\n           <li>\n            <a href=\"https://voyager.jpl.nasa.gov/\">\n             Voyager Interstellar Mission\n            </a>\n           </li>\n          </ul>\n         </div>\n         <div class=\"footer_sitemap_item\">\n          <h3 class=\"sitemap_title\">\n           galleries\n          </h3>\n          <ul class=\"subnav\">\n           <li>\n            <a href=\"/spaceimages/\">\n             JPL Space Images\n            </a>\n           </li>\n           <li>\n            <a href=\"/video/\">\n             Videos\n            </a>\n           </li>\n           <li>\n            <a href=\"/infographics/\">\n             Infographics\n            </a>\n           </li>\n           <li>\n            <a href=\"https://photojournal.jpl.nasa.gov/\">\n             Photojournal\n            </a>\n           </li>\n           <li>\n            <a href=\"http://www.nasaimages.org/\">\n             NASA Images\n            </a>\n           </li>\n           <li>\n            <a href=\"/apps/\">\n             Mobile Apps\n            </a>\n           </li>\n          </ul>\n         </div>\n        </div>\n        <div class=\"sitemap_block\">\n         <div class=\"footer_sitemap_item\">\n          <h3 class=\"sitemap_title\">\n           Follow JPL\n          </h3>\n          <ul class=\"subnav\">\n           <li>\n            <a href=\"/signup/\">\n             Newsletter\n            </a>\n           </li>\n           <li>\n            <a href=\"https://www.facebook.com/NASAJPL\">\n             Facebook\n            </a>\n           </li>\n           <li>\n            <a href=\"http://twitter.com/NASAJPL\">\n             Twitter\n            </a>\n           </li>\n           <li>\n            <a href=\"http://www.youtube.com/user/JPLnews\">\n             YouTube\n            </a>\n           </li>\n           <li>\n            <a href=\"http://www.flickr.com/photos/nasa-jpl\">\n             Flickr\n            </a>\n           </li>\n           <li>\n            <a href=\"http://instagram.com/nasajpl\">\n             Instagram\n            </a>\n           </li>\n           <li>\n            <a href=\"https://www.linkedin.com/company/2004/\">\n             LinkedIn\n            </a>\n           </li>\n           <li>\n            <a href=\"http://itunes.apple.com/podcast/hd-nasas-jet-propulsion-laboratory/id262254981\">\n             iTunes\n            </a>\n           </li>\n           <li>\n            <a href=\"http://www.ustream.tv/nasajpl\">\n             UStream\n            </a>\n           </li>\n           <li>\n            <a href=\"/rss/\">\n             RSS\n            </a>\n           </li>\n           <li>\n            <a href=\"http://blogs.jpl.nasa.gov\">\n             Blog\n            </a>\n           </li>\n           <li>\n            <a href=\"/onthego/\">\n             Mobile\n            </a>\n           </li>\n           <li>\n            <a href=\"/social/\">\n             All Social Media\n            </a>\n           </li>\n          </ul>\n         </div>\n         <div class=\"footer_sitemap_item\">\n          <h3 class=\"sitemap_title\">\n           NASA\n          </h3>\n          <ul class=\"subnav\">\n           <li>\n            <a href=\"http://jplwater.nasa.gov\">\n             NASA Water Cleanup\n            </a>\n           </li>\n           <li>\n            <a href=\"http://www.hq.nasa.gov/office/pao/FOIA/agency/\">\n             FOIA\n            </a>\n           </li>\n          </ul>\n         </div>\n        </div>\n       </div>\n      </div>\n      <div class=\"gradient_line\">\n      </div>\n     </section>\n     <section class=\"lower_footer\">\n      <div class=\"nav_container\">\n       <nav>\n        <ul>\n         <li>\n          <a href=\"http://www.nasa.gov/\" target=\"_blank\">\n           NASA\n          </a>\n         </li>\n         |\n         <li>\n          <a href=\"http://www.caltech.edu/\" target=\"_blank\">\n           Caltech\n          </a>\n         </li>\n         |\n         <li>\n          <a href=\"/privacy\">\n           Privacy\n          </a>\n         </li>\n         |\n         <li>\n          <a href=\"/imagepolicy\">\n           Image Policy\n          </a>\n         </li>\n         |\n         <li>\n          <a href=\"/faq.php\">\n           FAQ\n          </a>\n         </li>\n         |\n         <li>\n          <a href=\"/contact_JPL.php\">\n           Feedback\n          </a>\n         </li>\n        </ul>\n       </nav>\n      </div>\n      <div class=\"credits\">\n       <span class=\"credits_manager\">\n        Site Manager: Veronica McGregor\n       </span>\n       <span class=\"credits_webmaster\">\n        Site Editors: Tony Greicius, Randal Jackson\n       </span>\n      </div>\n     </section>\n    </footer>\n   </div>\n  </div>\n  <script src=\"/assets/javascripts/vendor/prefixfree.js\" type=\"text/javascript\">\n  </script>\n  <script src=\"/assets/javascripts/vendor/prefixfree.jquery.js\" type=\"text/javascript\">\n  </script>\n  <script id=\"_fed_an_ua_tag\" src=\"https://dap.digitalgov.gov/Universal-Federated-Analytics-Min.js?agency=NASA&amp;pua=UA-45212297-1&amp;subagency=JPL&amp;dclink=true&amp;sp=search,s,q&amp;sdor=false&amp;exts=tif,tiff\" type=\"text/javascript\">\n  </script>\n  <script type=\"text/javascript\">\n   setTimeout(function(){var a=document.createElement(\"script\");\nvar b=document.getElementsByTagName(\"script\")[0];\na.src=document.location.protocol+\"//script.crazyegg.com/pages/scripts/0025/5267.js?\"+Math.floor(new Date().getTime()/3600000);\na.async=true;a.type=\"text/javascript\";b.parentNode.insertBefore(a,b)}, 1);\n  </script>\n  <!-- END FOOTER: \"DEFAULT\" -->\n  <div id=\"_atssh\" style=\"visibility: hidden; height: 1px; width: 1px; position: absolute; top: -9999px; z-index: 100000;\">\n   <iframe id=\"_atssh632\" src=\"https://s7.addthis.com/static/sh.f48a1a04fe8dbf021b4cda1d.html#rand=0.33999548298197513&amp;iit=1590851666881&amp;tmr=load%3D1590851666393%26core%3D1590851666449%26main%3D1590851666875%26ifr%3D1590851666885&amp;cb=0&amp;cdn=0&amp;md=0&amp;kw=&amp;ab=-&amp;dh=www.jpl.nasa.gov&amp;dr=&amp;du=https%3A%2F%2Fwww.jpl.nasa.gov%2Fspaceimages%2F%3Fsearch%3D%26category%3DMars&amp;href=https%3A%2F%2Fwww.jpl.nasa.gov%2Fspaceimages%2F&amp;dt=Space%20Images&amp;dbg=0&amp;cap=tc%3D0%26ab%3D0&amp;inst=1&amp;jsl=1&amp;prod=undefined&amp;lng=en&amp;ogt=&amp;pc=men&amp;pub=&amp;ssl=1&amp;sid=5ed27852d4358544&amp;srf=0.01&amp;ver=300&amp;xck=1&amp;xtr=0&amp;og=&amp;csi=undefined&amp;rev=v8.28.5-wp&amp;ct=1&amp;xld=1&amp;xd=1\" style=\"height: 1px; width: 1px; position: absolute; top: 0px; z-index: 100000; border: 0px; left: 0px;\" title=\"AddThis utility frame\">\n   </iframe>\n  </div>\n  <style id=\"service-icons-0\">\n  </style>\n  <div id=\"fancybox-lock\">\n   <div class=\"fancybox-wrap fancybox-dark\">\n    <div class=\"fancybox-inner fancybox-skin fancybox-dark-skin\">\n    </div>\n   </div>\n  </div>\n  <div class=\"fancybox-overlay fancybox-overlay-fixed fancybox-dark-overlay\">\n  </div>\n  <div id=\"fancybox-loading\">\n  </div>\n </body>\n</html>\n"
    }
   ],
   "source": [
    "print(image_soup.prettify())"
   ]
  },
  {
   "cell_type": "code",
   "execution_count": 29,
   "metadata": {},
   "outputs": [
    {
     "output_type": "execute_result",
     "data": {
      "text/plain": "[]"
     },
     "metadata": {},
     "execution_count": 29
    }
   ],
   "source": [
    "# featured_img = image_soup.find('img',class_='fancybox-image')\n",
    "# featured_img"
   ]
  },
  {
   "cell_type": "code",
   "execution_count": 30,
   "metadata": {},
   "outputs": [],
   "source": [
    "partial_img_url = image_soup.find('img',class_='fancybox-image')[\"src\"]\n",
    "partial_img_url"
   ]
  },
  {
   "cell_type": "code",
   "execution_count": null,
   "metadata": {},
   "outputs": [],
   "source": [
    "featured_image_url = \"https://www.jpl.nasa.gov\" + partial_img_url\n",
    "print(featured_image_url)"
   ]
  },
  {
   "cell_type": "code",
   "execution_count": 32,
   "metadata": {},
   "outputs": [],
   "source": [
    "## Mars Weather\n",
    "## Visit the Mars Weather twitter account here and scrape the latest Mars weather tweet from the page. Save the tweet text for the weather report as a variable called mars_weather\n",
    "\n",
    "from selenium import webdriver\n",
    "driver = webdriver.Chrome()\n",
    "driver.get('https://twitter.com/marswxreport?lang=en')"
   ]
  },
  {
   "cell_type": "code",
   "execution_count": 33,
   "metadata": {},
   "outputs": [],
   "source": [
    "html = driver.page_source\n",
    "driver.close()"
   ]
  },
  {
   "cell_type": "code",
   "execution_count": 34,
   "metadata": {},
   "outputs": [],
   "source": [
    "# Parse HTML with Beautiful Soup\n",
    "twitter_soup = bs(html, 'html.parser')"
   ]
  },
  {
   "cell_type": "code",
   "execution_count": 35,
   "metadata": {},
   "outputs": [
    {
     "output_type": "execute_result",
     "data": {
      "text/plain": "<span class=\"css-901oao css-16my406 r-1qd0xha r-ad9z0x r-bcqeeo r-qvutc0\">Log in</span>"
     },
     "metadata": {},
     "execution_count": 35
    }
   ],
   "source": [
    "# Find all the tweets on the page\n",
    "latest_tweets = twitter_soup.find_all('span', class_='css-901oao css-16my406 r-1qd0xha r-ad9z0x r-bcqeeo r-qvutc0')\n",
    "\n",
    "# Preview the first result in the list\n",
    "latest_tweets[0]"
   ]
  },
  {
   "cell_type": "code",
   "execution_count": 36,
   "metadata": {},
   "outputs": [
    {
     "output_type": "stream",
     "name": "stdout",
     "text": "['Log in', 'Sign up', 'See new Tweets', 'Follow', 'Mars Weather', 'Mars Weather', '@MarsWxReport', 'Updates as avail from the REMS weather instrument aboard ', '.  Data credit: Centro deAstrobiologia, FMI, JPL/NASA, Not an official acct.', 'Gale Crater, Mars', 'Gale Crater, Mars', '51', 'Following', '57.2K', 'Followers', 'Tweets', 'Tweets & replies', 'Media', 'Likes', 'Tweets', 'Tweets & replies', 'Media', 'Likes', 'Mars Weather', 'Mars Weather', '@MarsWxReport', '·', 'InSight sol 535 (2020-05-29) low -91.3ºC (-132.4ºF) high -2.7ºC (27.2ºF)\\nwinds from the SW at 5.2 m/s (11.5 mph) gusting to 16.7 m/s (37.3 mph)\\npressure at 7.20 hPa', '8', '29', 'Mars Weather', 'Mars Weather', 'NASA Goddard', 'NASA Goddard', '@NASAGoddard', '·', 'Check out the first map of Mars electric currents.\\n\\n', ' ', ' ', ' ', '42', '1K', '4.1K', 'Mars Weather', 'Mars Weather', '@MarsWxReport', '·', 'InSight sol 534 (2020-05-27) low -92.8ºC (-135.1ºF) high 0.9ºC (33.7ºF)\\nwinds from the SW at 4.8 m/s (10.8 mph) gusting to 18.8 m/s (42.1 mph)\\npressure at 7.20 hPa', '5', '19', 'Mars Weather', 'Mars Weather', '@MarsWxReport', '·', 'InSight sol 533 (2020-05-27) low -92.8ºC (-135.1ºF) high -6.7ºC (19.9ºF)\\nwinds from the SW at 6.4 m/s (14.2 mph) gusting to 21.3 m/s (47.5 mph)\\npressure at 7.20 hPa', '1', '5', '23', 'Mars Weather', 'Mars Weather', 'Fraser Cain', 'Fraser Cain', '@fcain', '·', \"Mars doesn't have much of a magnetosphere, but here's a map -  \", '13', '39', 'Mars Weather', 'Mars Weather', '@MarsWxReport', '·', 'InSight sol 532 (2020-05-26) low -93.1ºC (-135.7ºF) high -1.1ºC (30.0ºF)\\nwinds from the SW at 4.9 m/s (10.9 mph) gusting to 17.7 m/s (39.6 mph)\\npressure at 7.10 hPa', '7', '14', 'New to Twitter?', 'Sign up now to get your own personalized timeline!', 'Sign up', 'You might like', 'NASA InSight', 'NASA InSight', '@NASAInSight', 'Follow', 'HiRISE: Beautiful Mars (NASA)', 'HiRISE: Beautiful Mars (NASA)', '@HiRISE', 'Follow', 'Weird Science', 'Weird Science', '@weird_sci', 'Follow', 'Show more', 'What’s happening', 'US news', '·', 'LIVE', \"Minnesota governor authorizes ‘full mobilization’ of the state's National Guard\", 'COVID-19', '·', 'LIVE', 'COVID-19: Updates for the US', 'Politics · Trending', 'MAGA NIGHT', '57.9K Tweets', 'Trending in United States', 'Bloody Sunday', '9,343 Tweets', 'Trending in United States', 'Hitler Youth', '26.4K Tweets', 'Show more', 'Terms', 'Privacy policy', 'Cookies', 'Ads info', '© 2020 Twitter, Inc.']\n"
    }
   ],
   "source": [
    "tweet_list = []\n",
    "for tweet in latest_tweets:\n",
    "\n",
    "    tweet_list.append(tweet.text)\n",
    "\n",
    "print(tweet_list)"
   ]
  },
  {
   "cell_type": "code",
   "execution_count": 37,
   "metadata": {},
   "outputs": [
    {
     "output_type": "execute_result",
     "data": {
      "text/plain": "'InSight sol 535 (2020-05-29) low -91.3ºC (-132.4ºF) high -2.7ºC (27.2ºF)\\nwinds from the SW at 5.2 m/s (11.5 mph) gusting to 16.7 m/s (37.3 mph)\\npressure at 7.20 hPa'"
     },
     "metadata": {},
     "execution_count": 37
    }
   ],
   "source": [
    "# Find weather tweet using keyword, store the first result as the latest weather tweet\n",
    "keyword = 'InSight'\n",
    "weather_tweet = [i for i in tweet_list if keyword in i] \n",
    "mars_weather = weather_tweet[0]\n",
    "mars_weather"
   ]
  },
  {
   "cell_type": "code",
   "execution_count": 38,
   "metadata": {},
   "outputs": [],
   "source": [
    "## Mars Facts\n",
    "# Visit the Mars Facts webpage here and use Pandas to scrape the table containing facts about the planet including Diameter, Mass, etc.\n",
    "# Use Pandas to convert the data to a HTML table string.\n",
    "\n",
    "import pandas as pd"
   ]
  },
  {
   "cell_type": "code",
   "execution_count": 40,
   "metadata": {},
   "outputs": [],
   "source": [
    "mars_facts_url = 'https://space-facts.com/mars/'"
   ]
  },
  {
   "cell_type": "code",
   "execution_count": 44,
   "metadata": {},
   "outputs": [
    {
     "output_type": "execute_result",
     "data": {
      "text/plain": "                      0                              1\n0  Equatorial Diameter:                       6,792 km\n1       Polar Diameter:                       6,752 km\n2                 Mass:  6.39 × 10^23 kg (0.11 Earths)\n3                Moons:            2 (Phobos & Deimos)\n4       Orbit Distance:       227,943,824 km (1.38 AU)\n5         Orbit Period:           687 days (1.9 years)\n6  Surface Temperature:                   -87 to -5 °C\n7         First Record:              2nd millennium BC\n8          Recorded By:           Egyptian astronomers",
      "text/html": "<div>\n<style scoped>\n    .dataframe tbody tr th:only-of-type {\n        vertical-align: middle;\n    }\n\n    .dataframe tbody tr th {\n        vertical-align: top;\n    }\n\n    .dataframe thead th {\n        text-align: right;\n    }\n</style>\n<table border=\"1\" class=\"dataframe\">\n  <thead>\n    <tr style=\"text-align: right;\">\n      <th></th>\n      <th>0</th>\n      <th>1</th>\n    </tr>\n  </thead>\n  <tbody>\n    <tr>\n      <td>0</td>\n      <td>Equatorial Diameter:</td>\n      <td>6,792 km</td>\n    </tr>\n    <tr>\n      <td>1</td>\n      <td>Polar Diameter:</td>\n      <td>6,752 km</td>\n    </tr>\n    <tr>\n      <td>2</td>\n      <td>Mass:</td>\n      <td>6.39 × 10^23 kg (0.11 Earths)</td>\n    </tr>\n    <tr>\n      <td>3</td>\n      <td>Moons:</td>\n      <td>2 (Phobos &amp; Deimos)</td>\n    </tr>\n    <tr>\n      <td>4</td>\n      <td>Orbit Distance:</td>\n      <td>227,943,824 km (1.38 AU)</td>\n    </tr>\n    <tr>\n      <td>5</td>\n      <td>Orbit Period:</td>\n      <td>687 days (1.9 years)</td>\n    </tr>\n    <tr>\n      <td>6</td>\n      <td>Surface Temperature:</td>\n      <td>-87 to -5 °C</td>\n    </tr>\n    <tr>\n      <td>7</td>\n      <td>First Record:</td>\n      <td>2nd millennium BC</td>\n    </tr>\n    <tr>\n      <td>8</td>\n      <td>Recorded By:</td>\n      <td>Egyptian astronomers</td>\n    </tr>\n  </tbody>\n</table>\n</div>"
     },
     "metadata": {},
     "execution_count": 44
    }
   ],
   "source": [
    "tables = pd.read_html(mars_facts_url)\n",
    "mars_df = tables[0]\n",
    "mars_df"
   ]
  },
  {
   "cell_type": "code",
   "execution_count": 53,
   "metadata": {},
   "outputs": [
    {
     "output_type": "execute_result",
     "data": {
      "text/plain": "0    Equatorial Diameter:\n1         Polar Diameter:\n2                   Mass:\n3                  Moons:\n4         Orbit Distance:\n5           Orbit Period:\n6    Surface Temperature:\n7           First Record:\n8            Recorded By:\nName: Description, dtype: object"
     },
     "metadata": {},
     "execution_count": 53
    }
   ],
   "source": [
    "# Rename column names\n",
    "mars_df.columns = ['Description','Value']\n",
    "mars_df['Description']"
   ]
  },
  {
   "cell_type": "code",
   "execution_count": 46,
   "metadata": {},
   "outputs": [],
   "source": [
    "# Mars Hemispheres\n",
    "\n",
    "# Visit the USGS Astrogeology site here to obtain high resolution images for each of Mar's hemispheres.\n",
    "\n",
    "# You will need to click each of the links to the hemispheres in order to find the image url to the full resolution image.\n",
    "\n",
    "# Save both the image url string for the full resolution hemisphere image, and the Hemisphere title containing the hemisphere name. Use a Python dictionary to store the data using the keys img_url and title.\n",
    "\n",
    "# Append the dictionary with the image url string and the hemisphere title to a list. This list will contain one dictionary for each hemisphere.\n",
    "\n",
    "executable_path = {'executable_path': 'chromedriver.exe'}\n",
    "browser = Browser('chrome', **executable_path, headless=False)\n",
    "mars_hemisphere_url = 'https://astrogeology.usgs.gov/search/results?q=hemisphere+enhanced&k1=target&v1=Mars'\n",
    "browser.visit(mars_hemisphere_url)"
   ]
  },
  {
   "cell_type": "code",
   "execution_count": 47,
   "metadata": {},
   "outputs": [],
   "source": [
    "# Store HTML Object\n",
    "hemisphere_html = browser.html"
   ]
  },
  {
   "cell_type": "code",
   "execution_count": 48,
   "metadata": {},
   "outputs": [],
   "source": [
    "# Create BeautifulSoup object; parse with 'html.parser'\n",
    "loaded_potato = bs(hemisphere_html, 'html.parser')"
   ]
  },
  {
   "cell_type": "code",
   "execution_count": 49,
   "metadata": {},
   "outputs": [
    {
     "output_type": "execute_result",
     "data": {
      "text/plain": "<div class=\"item\"><a class=\"itemLink product-item\" href=\"/search/map/Mars/Viking/cerberus_enhanced\"><img alt=\"Cerberus Hemisphere Enhanced thumbnail\" class=\"thumb\" src=\"/cache/images/39d3266553462198bd2fbc4d18fbed17_cerberus_enhanced.tif_thumb.png\"/></a><div class=\"description\"><a class=\"itemLink product-item\" href=\"/search/map/Mars/Viking/cerberus_enhanced\"><h3>Cerberus Hemisphere Enhanced</h3></a><span class=\"subtitle\" style=\"float:left\">image/tiff 21 MB</span><span class=\"pubDate\" style=\"float:right\"></span><br/><p>Mosaic of the Cerberus hemisphere of Mars projected into point perspective, a view similar to that which one would see from a spacecraft. This mosaic is composed of 104 Viking Orbiter images acquired…</p></div> <!-- end description --></div>"
     },
     "metadata": {},
     "execution_count": 49
    }
   ],
   "source": [
    "# Use Beautiful Soup's find_all() method to navigate and retrieve image attributes\n",
    "hemisphere_img = loaded_potato.find_all('div', class_='item')\n",
    "\n",
    "# Preview the first result in the list\n",
    "hemisphere_img[0]"
   ]
  },
  {
   "cell_type": "code",
   "execution_count": 50,
   "metadata": {},
   "outputs": [
    {
     "output_type": "execute_result",
     "data": {
      "text/plain": "[{'title': 'Cerberus Hemisphere Enhanced',\n  'img_url': 'https://astrogeology.usgs.gov/cache/images/f5e372a36edfa389625da6d0cc25d905_cerberus_enhanced.tif_full.jpg'},\n {'title': 'Schiaparelli Hemisphere Enhanced',\n  'img_url': 'https://astrogeology.usgs.gov/cache/images/3778f7b43bbbc89d6e3cfabb3613ba93_schiaparelli_enhanced.tif_full.jpg'},\n {'title': 'Syrtis Major Hemisphere Enhanced',\n  'img_url': 'https://astrogeology.usgs.gov/cache/images/555e6403a6ddd7ba16ddb0e471cadcf7_syrtis_major_enhanced.tif_full.jpg'},\n {'title': 'Valles Marineris Hemisphere Enhanced',\n  'img_url': 'https://astrogeology.usgs.gov/cache/images/b3c7c6c9138f57b4756be9b9c43e3a48_valles_marineris_enhanced.tif_full.jpg'}]"
     },
     "metadata": {},
     "execution_count": 50
    }
   ],
   "source": [
    "main_url = \"https://astrogeology.usgs.gov\"\n",
    "hemisphere_image_urls = []\n",
    "\n",
    "for i in hemisphere_img:\n",
    "    img_title = i.find('h3').text\n",
    "    partial_img_url = i.find('a', class_='itemLink product-item')['href']\n",
    "\n",
    "    # Visit link that contains full-sized image\n",
    "    browser.visit(main_url+partial_img_url)\n",
    "\n",
    "    # Store html from page visited\n",
    "    img_html = browser.html\n",
    "    \n",
    "    # Create BeautifulSoup object; parse with 'html.parser'\n",
    "    img_soup = bs(img_html, 'html.parser')\n",
    "    \n",
    "    # Retrieve image url\n",
    "    individual_img_partial_url = img_soup.find('img', class_='wide-image')['src']\n",
    "    \n",
    "    # Attach partial link to main url\n",
    "    individual_img_url = main_url + individual_img_partial_url\n",
    "\n",
    "    # Append information into a list of dictionaries \n",
    "    hemisphere_image_urls.append({\"title\" : img_title, \"img_url\" : individual_img_url})\n",
    "    \n",
    "hemisphere_image_urls"
   ]
  },
  {
   "cell_type": "code",
   "execution_count": 51,
   "metadata": {},
   "outputs": [],
   "source": [
    "browser.quit()"
   ]
  },
  {
   "cell_type": "code",
   "execution_count": null,
   "metadata": {},
   "outputs": [],
   "source": []
  },
  {
   "cell_type": "code",
   "execution_count": null,
   "metadata": {},
   "outputs": [],
   "source": []
  },
  {
   "cell_type": "code",
   "execution_count": null,
   "metadata": {},
   "outputs": [],
   "source": []
  }
 ],
 "metadata": {
  "language_info": {
   "codemirror_mode": {
    "name": "ipython",
    "version": 3
   },
   "file_extension": ".py",
   "mimetype": "text/x-python",
   "name": "python",
   "nbconvert_exporter": "python",
   "pygments_lexer": "ipython3",
   "version": "3.7.4-final"
  },
  "orig_nbformat": 2,
  "kernelspec": {
   "name": "python3",
   "display_name": "Python 3"
  }
 },
 "nbformat": 4,
 "nbformat_minor": 2
}